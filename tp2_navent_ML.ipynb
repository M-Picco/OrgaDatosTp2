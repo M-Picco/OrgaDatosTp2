{
 "cells": [
  {
   "cell_type": "markdown",
   "metadata": {},
   "source": [
    "# Predicción de postulación para un aviso"
   ]
  },
  {
   "cell_type": "code",
   "execution_count": 1,
   "metadata": {},
   "outputs": [],
   "source": [
    "import numpy as np\n",
    "import pandas as pd\n",
    "import datetime\n",
    "from sklearn.ensemble import RandomForestClassifier, GradientBoostingClassifier, AdaBoostClassifier\n",
    "from sklearn.neural_network import MLPClassifier\n",
    "from sklearn.svm import SVC\n",
    "from sklearn.tree import DecisionTreeClassifier\n",
    "from sklearn.utils import shuffle\n",
    "from sklearn.metrics import precision_score\n",
    "from sklearn.preprocessing import LabelEncoder"
   ]
  },
  {
   "cell_type": "markdown",
   "metadata": {},
   "source": [
    "## Carga y limpieza de datos / Feature Engineering"
   ]
  },
  {
   "cell_type": "code",
   "execution_count": 2,
   "metadata": {},
   "outputs": [
    {
     "data": {
      "text/plain": [
       "(504407, 3)"
      ]
     },
     "execution_count": 2,
     "metadata": {},
     "output_type": "execute_result"
    }
   ],
   "source": [
    "# cargo postulantes\n",
    "df_postulantes1 = pd.read_csv('../datos_navent_fiuba/datos_navent/fiuba_2_postulantes_genero_y_edad.csv', parse_dates=['fechanacimiento'])\n",
    "df_postulantes2 = pd.read_csv('../datos_navent_fiuba/fiuba_hasta_15_abril/fiuba_2_postulantes_genero_y_edad.csv', parse_dates=['fechanacimiento'])\n",
    "df_postulantes3 = pd.read_csv('../datos_navent_fiuba/fiuba_desde_15_abril/fiuba_2_postulantes_genero_y_edad.csv', parse_dates=['fechanacimiento'])\n",
    "\n",
    "df_postulantes = df_postulantes1.append(df_postulantes2).append(df_postulantes3)\n",
    "\n",
    "del df_postulantes1\n",
    "del df_postulantes2\n",
    "del df_postulantes3\n",
    "\n",
    "df_postulantes.drop_duplicates(['idpostulante'], keep='first', inplace=True)\n",
    "\n",
    "df_postulantes.shape"
   ]
  },
  {
   "cell_type": "code",
   "execution_count": 3,
   "metadata": {},
   "outputs": [],
   "source": [
    "# http://scikit-learn.org/stable/modules/generated/sklearn.preprocessing.LabelEncoder.html\n",
    "# guardamos los codificadores (label => numero y visceversa) en un diccionario\n",
    "label_encoders = {}"
   ]
  },
  {
   "cell_type": "code",
   "execution_count": 4,
   "metadata": {},
   "outputs": [
    {
     "data": {
      "text/html": [
       "<div>\n",
       "<style scoped>\n",
       "    .dataframe tbody tr th:only-of-type {\n",
       "        vertical-align: middle;\n",
       "    }\n",
       "\n",
       "    .dataframe tbody tr th {\n",
       "        vertical-align: top;\n",
       "    }\n",
       "\n",
       "    .dataframe thead th {\n",
       "        text-align: right;\n",
       "    }\n",
       "</style>\n",
       "<table border=\"1\" class=\"dataframe\">\n",
       "  <thead>\n",
       "    <tr style=\"text-align: right;\">\n",
       "      <th></th>\n",
       "      <th>idpostulante</th>\n",
       "      <th>sexo</th>\n",
       "      <th>edad</th>\n",
       "    </tr>\n",
       "  </thead>\n",
       "  <tbody>\n",
       "    <tr>\n",
       "      <th>0</th>\n",
       "      <td>NM5M</td>\n",
       "      <td>0</td>\n",
       "      <td>48.0</td>\n",
       "    </tr>\n",
       "    <tr>\n",
       "      <th>1</th>\n",
       "      <td>5awk</td>\n",
       "      <td>0</td>\n",
       "      <td>56.0</td>\n",
       "    </tr>\n",
       "    <tr>\n",
       "      <th>2</th>\n",
       "      <td>ZaO5</td>\n",
       "      <td>0</td>\n",
       "      <td>40.0</td>\n",
       "    </tr>\n",
       "    <tr>\n",
       "      <th>3</th>\n",
       "      <td>NdJl</td>\n",
       "      <td>1</td>\n",
       "      <td>49.0</td>\n",
       "    </tr>\n",
       "    <tr>\n",
       "      <th>4</th>\n",
       "      <td>eo2p</td>\n",
       "      <td>1</td>\n",
       "      <td>37.0</td>\n",
       "    </tr>\n",
       "  </tbody>\n",
       "</table>\n",
       "</div>"
      ],
      "text/plain": [
       "  idpostulante  sexo  edad\n",
       "0         NM5M     0  48.0\n",
       "1         5awk     0  56.0\n",
       "2         ZaO5     0  40.0\n",
       "3         NdJl     1  49.0\n",
       "4         eo2p     1  37.0"
      ]
     },
     "execution_count": 4,
     "metadata": {},
     "output_type": "execute_result"
    }
   ],
   "source": [
    "# limpieza de datos de fecha de nacimiento\n",
    "df_postulantes['fechanacimiento'] = pd.to_datetime(df_postulantes['fechanacimiento'], errors='coerce')\n",
    "\n",
    "df_postulantes['edad'] = datetime.datetime.now().year - df_postulantes['fechanacimiento'].dt.year\n",
    "df_postulantes['edad'] = df_postulantes['edad'].fillna(0)\n",
    "\n",
    "df_postulantes = df_postulantes.drop(['fechanacimiento'], axis=1)\n",
    "\n",
    "df_postulantes = df_postulantes.loc[(df_postulantes['sexo'] == 'FEM') | (df_postulantes['sexo'] == 'MASC') | (df_postulantes['sexo'] == 'NO_DECLARA')]\n",
    "\n",
    "# convierto variables categóricas a numéricas\n",
    "label_encoders['sexo'] = LabelEncoder().fit(['FEM', 'MASC', 'NO_DECLARA'])\n",
    "df_postulantes['sexo'] = label_encoders['sexo'].transform(df_postulantes['sexo'])\n",
    "\n",
    "df_postulantes.head()"
   ]
  },
  {
   "cell_type": "code",
   "execution_count": 5,
   "metadata": {},
   "outputs": [
    {
     "name": "stdout",
     "output_type": "stream",
     "text": [
      "(447909, 3)\n",
      "  idpostulante         nombre    estado\n",
      "0         NdJl       Posgrado  En Curso\n",
      "1         8BkL  Universitario  En Curso\n",
      "2         1d2B  Universitario  En Curso\n",
      "3         NPBx  Universitario  En Curso\n",
      "5         Ym2X           Otro  En Curso\n"
     ]
    }
   ],
   "source": [
    "# cargo educacion de los estudiantes\n",
    "df_edu1 = pd.read_csv('../datos_navent_fiuba/datos_navent/fiuba_1_postulantes_educacion.csv')\n",
    "df_edu2 = pd.read_csv('../datos_navent_fiuba/fiuba_hasta_15_abril/fiuba_1_postulantes_educacion.csv')\n",
    "df_edu3 = pd.read_csv('../datos_navent_fiuba/fiuba_desde_15_abril/fiuba_1_postulantes_educacion.csv')\n",
    "\n",
    "df_edu = df_edu1.append(df_edu2).append(df_edu3)\n",
    "\n",
    "del df_edu1\n",
    "del df_edu2\n",
    "del df_edu3\n",
    "\n",
    "df_edu.drop_duplicates(['idpostulante'], keep='first', inplace=True)\n",
    "\n",
    "print(df_edu.shape)\n",
    "print(df_edu.head())"
   ]
  },
  {
   "cell_type": "code",
   "execution_count": 6,
   "metadata": {},
   "outputs": [],
   "source": [
    "# renombro columnas para no confundirlas luego de mergear\n",
    "df_edu = df_edu.rename(columns={'nombre':'nombre_edu', 'estado': 'estado_edu'});"
   ]
  },
  {
   "cell_type": "code",
   "execution_count": 7,
   "metadata": {},
   "outputs": [
    {
     "data": {
      "text/html": [
       "<div>\n",
       "<style scoped>\n",
       "    .dataframe tbody tr th:only-of-type {\n",
       "        vertical-align: middle;\n",
       "    }\n",
       "\n",
       "    .dataframe tbody tr th {\n",
       "        vertical-align: top;\n",
       "    }\n",
       "\n",
       "    .dataframe thead th {\n",
       "        text-align: right;\n",
       "    }\n",
       "</style>\n",
       "<table border=\"1\" class=\"dataframe\">\n",
       "  <thead>\n",
       "    <tr style=\"text-align: right;\">\n",
       "      <th></th>\n",
       "      <th>idpostulante</th>\n",
       "      <th>nombre_edu</th>\n",
       "      <th>estado_edu</th>\n",
       "    </tr>\n",
       "  </thead>\n",
       "  <tbody>\n",
       "    <tr>\n",
       "      <th>0</th>\n",
       "      <td>NdJl</td>\n",
       "      <td>3</td>\n",
       "      <td>1</td>\n",
       "    </tr>\n",
       "    <tr>\n",
       "      <th>1</th>\n",
       "      <td>8BkL</td>\n",
       "      <td>6</td>\n",
       "      <td>1</td>\n",
       "    </tr>\n",
       "    <tr>\n",
       "      <th>2</th>\n",
       "      <td>1d2B</td>\n",
       "      <td>6</td>\n",
       "      <td>1</td>\n",
       "    </tr>\n",
       "    <tr>\n",
       "      <th>3</th>\n",
       "      <td>NPBx</td>\n",
       "      <td>6</td>\n",
       "      <td>1</td>\n",
       "    </tr>\n",
       "    <tr>\n",
       "      <th>5</th>\n",
       "      <td>Ym2X</td>\n",
       "      <td>2</td>\n",
       "      <td>1</td>\n",
       "    </tr>\n",
       "  </tbody>\n",
       "</table>\n",
       "</div>"
      ],
      "text/plain": [
       "  idpostulante  nombre_edu  estado_edu\n",
       "0         NdJl           3           1\n",
       "1         8BkL           6           1\n",
       "2         1d2B           6           1\n",
       "3         NPBx           6           1\n",
       "5         Ym2X           2           1"
      ]
     },
     "execution_count": 7,
     "metadata": {},
     "output_type": "execute_result"
    }
   ],
   "source": [
    "# convierto variables categóricas a numéricas\n",
    "label_encoders['nombre_edu'] = LabelEncoder().fit(df_edu['nombre_edu'])\n",
    "label_encoders['estado_edu'] = LabelEncoder().fit(df_edu['estado_edu'])\n",
    "\n",
    "df_edu['nombre_edu'] = label_encoders['nombre_edu'].transform(df_edu['nombre_edu'])\n",
    "df_edu['estado_edu'] = label_encoders['estado_edu'].transform(df_edu['estado_edu'])\n",
    "\n",
    "df_edu.head()"
   ]
  },
  {
   "cell_type": "code",
   "execution_count": 8,
   "metadata": {},
   "outputs": [
    {
     "data": {
      "text/html": [
       "<div>\n",
       "<style scoped>\n",
       "    .dataframe tbody tr th:only-of-type {\n",
       "        vertical-align: middle;\n",
       "    }\n",
       "\n",
       "    .dataframe tbody tr th {\n",
       "        vertical-align: top;\n",
       "    }\n",
       "\n",
       "    .dataframe thead th {\n",
       "        text-align: right;\n",
       "    }\n",
       "</style>\n",
       "<table border=\"1\" class=\"dataframe\">\n",
       "  <thead>\n",
       "    <tr style=\"text-align: right;\">\n",
       "      <th></th>\n",
       "      <th>idpostulante</th>\n",
       "      <th>sexo</th>\n",
       "      <th>edad</th>\n",
       "      <th>nombre_edu</th>\n",
       "      <th>estado_edu</th>\n",
       "    </tr>\n",
       "  </thead>\n",
       "  <tbody>\n",
       "    <tr>\n",
       "      <th>0</th>\n",
       "      <td>NM5M</td>\n",
       "      <td>0</td>\n",
       "      <td>48.0</td>\n",
       "      <td>4</td>\n",
       "      <td>2</td>\n",
       "    </tr>\n",
       "    <tr>\n",
       "      <th>1</th>\n",
       "      <td>5awk</td>\n",
       "      <td>0</td>\n",
       "      <td>56.0</td>\n",
       "      <td>6</td>\n",
       "      <td>2</td>\n",
       "    </tr>\n",
       "    <tr>\n",
       "      <th>2</th>\n",
       "      <td>ZaO5</td>\n",
       "      <td>0</td>\n",
       "      <td>40.0</td>\n",
       "      <td>5</td>\n",
       "      <td>2</td>\n",
       "    </tr>\n",
       "    <tr>\n",
       "      <th>3</th>\n",
       "      <td>NdJl</td>\n",
       "      <td>1</td>\n",
       "      <td>49.0</td>\n",
       "      <td>3</td>\n",
       "      <td>1</td>\n",
       "    </tr>\n",
       "    <tr>\n",
       "      <th>4</th>\n",
       "      <td>eo2p</td>\n",
       "      <td>1</td>\n",
       "      <td>37.0</td>\n",
       "      <td>4</td>\n",
       "      <td>2</td>\n",
       "    </tr>\n",
       "  </tbody>\n",
       "</table>\n",
       "</div>"
      ],
      "text/plain": [
       "  idpostulante  sexo  edad  nombre_edu  estado_edu\n",
       "0         NM5M     0  48.0           4           2\n",
       "1         5awk     0  56.0           6           2\n",
       "2         ZaO5     0  40.0           5           2\n",
       "3         NdJl     1  49.0           3           1\n",
       "4         eo2p     1  37.0           4           2"
      ]
     },
     "execution_count": 8,
     "metadata": {},
     "output_type": "execute_result"
    }
   ],
   "source": [
    "df_posts_edu = df_postulantes.merge(df_edu, on='idpostulante')\n",
    "\n",
    "# me quedo con el de mayor educacion registro para cada postulante\n",
    "df_posts_edu.sort_values(by='nombre_edu', ascending=False)\n",
    "\n",
    "df_posts_edu.drop_duplicates(subset = \"idpostulante\",keep= \"first\", inplace=True)\n",
    "\n",
    "df_posts_edu.head()"
   ]
  },
  {
   "cell_type": "code",
   "execution_count": 9,
   "metadata": {},
   "outputs": [
    {
     "name": "stdout",
     "output_type": "stream",
     "text": [
      "(6603752, 3)\n",
      "      idaviso idpostulante     fechapostulacion\n",
      "0  1112257047         NM5M  2018-01-15 16:22:34\n",
      "1  1111920714         NM5M  2018-02-06 09:04:50\n",
      "2  1112346945         NM5M  2018-02-22 09:04:47\n",
      "3  1112345547         NM5M  2018-02-22 09:04:59\n",
      "4  1112237522         5awk  2018-01-25 18:55:03\n"
     ]
    }
   ],
   "source": [
    "# cargo postulaciones\n",
    "df_postulaciones1 = pd.read_csv('../datos_navent_fiuba/datos_navent/fiuba_4_postulaciones.csv')\n",
    "df_postulaciones2 = pd.read_csv('../datos_navent_fiuba/fiuba_hasta_15_abril/fiuba_4_postulaciones.csv')\n",
    "\n",
    "df_postulaciones = df_postulaciones1.append(df_postulaciones2)\n",
    "\n",
    "del df_postulaciones1\n",
    "del df_postulaciones2\n",
    "\n",
    "df_postulaciones.drop_duplicates(['idaviso', 'idpostulante'], keep='first', inplace=True)\n",
    "\n",
    "print(df_postulaciones.shape)\n",
    "print(df_postulaciones.head())"
   ]
  },
  {
   "cell_type": "code",
   "execution_count": 10,
   "metadata": {},
   "outputs": [
    {
     "data": {
      "text/html": [
       "<div>\n",
       "<style scoped>\n",
       "    .dataframe tbody tr th:only-of-type {\n",
       "        vertical-align: middle;\n",
       "    }\n",
       "\n",
       "    .dataframe tbody tr th {\n",
       "        vertical-align: top;\n",
       "    }\n",
       "\n",
       "    .dataframe thead th {\n",
       "        text-align: right;\n",
       "    }\n",
       "</style>\n",
       "<table border=\"1\" class=\"dataframe\">\n",
       "  <thead>\n",
       "    <tr style=\"text-align: right;\">\n",
       "      <th></th>\n",
       "      <th>idaviso</th>\n",
       "      <th>idpostulante</th>\n",
       "    </tr>\n",
       "  </thead>\n",
       "  <tbody>\n",
       "    <tr>\n",
       "      <th>0</th>\n",
       "      <td>1112257047</td>\n",
       "      <td>NM5M</td>\n",
       "    </tr>\n",
       "    <tr>\n",
       "      <th>1</th>\n",
       "      <td>1111920714</td>\n",
       "      <td>NM5M</td>\n",
       "    </tr>\n",
       "    <tr>\n",
       "      <th>2</th>\n",
       "      <td>1112346945</td>\n",
       "      <td>NM5M</td>\n",
       "    </tr>\n",
       "    <tr>\n",
       "      <th>3</th>\n",
       "      <td>1112345547</td>\n",
       "      <td>NM5M</td>\n",
       "    </tr>\n",
       "    <tr>\n",
       "      <th>4</th>\n",
       "      <td>1112237522</td>\n",
       "      <td>5awk</td>\n",
       "    </tr>\n",
       "  </tbody>\n",
       "</table>\n",
       "</div>"
      ],
      "text/plain": [
       "      idaviso idpostulante\n",
       "0  1112257047         NM5M\n",
       "1  1111920714         NM5M\n",
       "2  1112346945         NM5M\n",
       "3  1112345547         NM5M\n",
       "4  1112237522         5awk"
      ]
     },
     "execution_count": 10,
     "metadata": {},
     "output_type": "execute_result"
    }
   ],
   "source": [
    "# no necesitamos la fecha de postulacion\n",
    "df_postulaciones.drop(['fechapostulacion'], axis=1, inplace=True)\n",
    "df_postulaciones.head()"
   ]
  },
  {
   "cell_type": "code",
   "execution_count": 11,
   "metadata": {},
   "outputs": [
    {
     "name": "stdout",
     "output_type": "stream",
     "text": [
      "(25288, 11)\n",
      "      idaviso  idpais                                         titulo  \\\n",
      "0     8725750       1               VENDEDOR/A PROVINCIA DE SANTA FE   \n",
      "1    17903700       1                                     Enfermeras   \n",
      "2  1000150677       1                                 Chofer de taxi   \n",
      "3  1000610287       1  CHOFER DE CAMIONETA BAHIA BLANCA - PUNTA ALTA   \n",
      "4  1000872556       1  Operarios de Planta - Rubro Electrodomésticos   \n",
      "\n",
      "                                         descripcion        nombre_zona  \\\n",
      "0  <p><strong><strong>Empresa:</strong></strong> ...  Gran Buenos Aires   \n",
      "1  <p>Solicitamos para importante cadena de farma...  Gran Buenos Aires   \n",
      "2  <p>TE GUSTA MANEJAR? QUERES GANAR PLATA HACIEN...    Capital Federal   \n",
      "3  <p><strong>Somos una empresa multinacional que...  Gran Buenos Aires   \n",
      "4  <p><strong>OPERARIOS DE PLANTA</strong></p><p>...  Gran Buenos Aires   \n",
      "\n",
      "  ciudad       mapacalle tipo_de_trabajo         nivel_laboral nombre_area  \\\n",
      "0    NaN             NaN       Full-time  Senior / Semi-Senior   Comercial   \n",
      "1    NaN             NaN       Full-time  Senior / Semi-Senior       Salud   \n",
      "2    NaN  Empedrado 2336       Full-time  Senior / Semi-Senior  Transporte   \n",
      "3    NaN             NaN       Full-time  Senior / Semi-Senior  Transporte   \n",
      "4    NaN             NaN       Full-time  Senior / Semi-Senior  Producción   \n",
      "\n",
      "      denominacion_empresa  \n",
      "0                   VENTOR  \n",
      "1  Farmacias Central Oeste  \n",
      "2              FAMITAX SRL  \n",
      "3      Wurth Argentina S.A  \n",
      "4       ELECTRO OUTLET SRL  \n"
     ]
    }
   ],
   "source": [
    "# cargo avisos\n",
    "df_avisos1 = pd.read_csv('../datos_navent_fiuba/datos_navent/fiuba_6_avisos_detalle.csv')\n",
    "df_avisos2 = pd.read_csv('../datos_navent_fiuba/fiuba_hasta_15_abril/fiuba_6_avisos_detalle.csv')\n",
    "df_avisos3 = pd.read_csv('../datos_navent_fiuba/fiuba_desde_15_abril/fiuba_6_avisos_detalle.csv')\n",
    "df_avisos4 = pd.read_csv('../datos_navent_fiuba/fiuba_desde_15_abril/fiuba_6_avisos_detalle_missing_nivel_laboral.csv')\n",
    "\n",
    "df_avisos = df_avisos1.append(df_avisos2).append(df_avisos3).append(df_avisos4)\n",
    "\n",
    "del df_avisos1\n",
    "del df_avisos2\n",
    "del df_avisos3\n",
    "del df_avisos4\n",
    "\n",
    "df_avisos = df_avisos.drop_duplicates(['idaviso'], keep='first')\n",
    "\n",
    "print(df_avisos.shape)\n",
    "print(df_avisos.head())"
   ]
  },
  {
   "cell_type": "code",
   "execution_count": 12,
   "metadata": {},
   "outputs": [],
   "source": [
    "df_avisos = df_avisos.drop(['mapacalle'], axis=1)"
   ]
  },
  {
   "cell_type": "code",
   "execution_count": 13,
   "metadata": {},
   "outputs": [],
   "source": [
    "# limpieza de NaN, nan, None, etc.\n",
    "df_avisos['ciudad'] = df_avisos['ciudad'].fillna('None')\n",
    "df_avisos['titulo'] = df_avisos['titulo'].fillna('None')\n",
    "df_avisos['descripcion'] = df_avisos['descripcion'].fillna('None')\n",
    "df_avisos['denominacion_empresa'] = df_avisos['denominacion_empresa'].fillna('None')\n",
    "df_avisos['nivel_laboral'] = df_avisos['nivel_laboral'].fillna('None')"
   ]
  },
  {
   "cell_type": "code",
   "execution_count": 14,
   "metadata": {},
   "outputs": [],
   "source": [
    "# convierto variables categóricas a numéricas\n",
    "label_encoders['nombre_zona'] = LabelEncoder().fit(df_avisos['nombre_zona'])\n",
    "label_encoders['ciudad'] = LabelEncoder().fit(df_avisos['ciudad'])\n",
    "label_encoders['tipo_de_trabajo'] = LabelEncoder().fit(df_avisos['tipo_de_trabajo'])\n",
    "label_encoders['nivel_laboral'] = LabelEncoder().fit(df_avisos['nivel_laboral'])\n",
    "label_encoders['nombre_area'] = LabelEncoder().fit(df_avisos['nombre_area'])\n",
    "label_encoders['denominacion_empresa'] = LabelEncoder().fit(df_avisos['denominacion_empresa'])\n",
    "\n",
    "df_avisos['nombre_zona'] = label_encoders['nombre_zona'].transform(df_avisos['nombre_zona'])\n",
    "df_avisos['ciudad'] = label_encoders['ciudad'].transform(df_avisos['ciudad'])\n",
    "df_avisos['tipo_de_trabajo'] = label_encoders['tipo_de_trabajo'].transform(df_avisos['tipo_de_trabajo'])\n",
    "df_avisos['nivel_laboral'] = label_encoders['nivel_laboral'].transform(df_avisos['nivel_laboral'])\n",
    "df_avisos['nombre_area'] = label_encoders['nombre_area'].transform(df_avisos['nombre_area'])\n",
    "df_avisos['denominacion_empresa'] = label_encoders['denominacion_empresa'].transform(df_avisos['denominacion_empresa'])"
   ]
  },
  {
   "cell_type": "code",
   "execution_count": 15,
   "metadata": {},
   "outputs": [
    {
     "data": {
      "text/html": [
       "<div>\n",
       "<style scoped>\n",
       "    .dataframe tbody tr th:only-of-type {\n",
       "        vertical-align: middle;\n",
       "    }\n",
       "\n",
       "    .dataframe tbody tr th {\n",
       "        vertical-align: top;\n",
       "    }\n",
       "\n",
       "    .dataframe thead th {\n",
       "        text-align: right;\n",
       "    }\n",
       "</style>\n",
       "<table border=\"1\" class=\"dataframe\">\n",
       "  <thead>\n",
       "    <tr style=\"text-align: right;\">\n",
       "      <th></th>\n",
       "      <th>idaviso</th>\n",
       "      <th>idpais</th>\n",
       "      <th>titulo</th>\n",
       "      <th>descripcion</th>\n",
       "      <th>nombre_zona</th>\n",
       "      <th>ciudad</th>\n",
       "      <th>tipo_de_trabajo</th>\n",
       "      <th>nivel_laboral</th>\n",
       "      <th>nombre_area</th>\n",
       "      <th>denominacion_empresa</th>\n",
       "    </tr>\n",
       "  </thead>\n",
       "  <tbody>\n",
       "    <tr>\n",
       "      <th>0</th>\n",
       "      <td>8725750</td>\n",
       "      <td>1</td>\n",
       "      <td>VENDEDOR/A PROVINCIA DE SANTA FE</td>\n",
       "      <td>&lt;p&gt;&lt;strong&gt;&lt;strong&gt;Empresa:&lt;/strong&gt;&lt;/strong&gt; ...</td>\n",
       "      <td>7</td>\n",
       "      <td>30</td>\n",
       "      <td>1</td>\n",
       "      <td>5</td>\n",
       "      <td>30</td>\n",
       "      <td>4005</td>\n",
       "    </tr>\n",
       "    <tr>\n",
       "      <th>1</th>\n",
       "      <td>17903700</td>\n",
       "      <td>1</td>\n",
       "      <td>Enfermeras</td>\n",
       "      <td>&lt;p&gt;Solicitamos para importante cadena de farma...</td>\n",
       "      <td>7</td>\n",
       "      <td>30</td>\n",
       "      <td>1</td>\n",
       "      <td>5</td>\n",
       "      <td>158</td>\n",
       "      <td>1640</td>\n",
       "    </tr>\n",
       "    <tr>\n",
       "      <th>2</th>\n",
       "      <td>1000150677</td>\n",
       "      <td>1</td>\n",
       "      <td>Chofer de taxi</td>\n",
       "      <td>&lt;p&gt;TE GUSTA MANEJAR? QUERES GANAR PLATA HACIEN...</td>\n",
       "      <td>1</td>\n",
       "      <td>30</td>\n",
       "      <td>1</td>\n",
       "      <td>5</td>\n",
       "      <td>181</td>\n",
       "      <td>1561</td>\n",
       "    </tr>\n",
       "    <tr>\n",
       "      <th>3</th>\n",
       "      <td>1000610287</td>\n",
       "      <td>1</td>\n",
       "      <td>CHOFER DE CAMIONETA BAHIA BLANCA - PUNTA ALTA</td>\n",
       "      <td>&lt;p&gt;&lt;strong&gt;Somos una empresa multinacional que...</td>\n",
       "      <td>7</td>\n",
       "      <td>30</td>\n",
       "      <td>1</td>\n",
       "      <td>5</td>\n",
       "      <td>181</td>\n",
       "      <td>4119</td>\n",
       "    </tr>\n",
       "    <tr>\n",
       "      <th>4</th>\n",
       "      <td>1000872556</td>\n",
       "      <td>1</td>\n",
       "      <td>Operarios de Planta - Rubro Electrodomésticos</td>\n",
       "      <td>&lt;p&gt;&lt;strong&gt;OPERARIOS DE PLANTA&lt;/strong&gt;&lt;/p&gt;&lt;p&gt;...</td>\n",
       "      <td>7</td>\n",
       "      <td>30</td>\n",
       "      <td>1</td>\n",
       "      <td>5</td>\n",
       "      <td>143</td>\n",
       "      <td>1267</td>\n",
       "    </tr>\n",
       "  </tbody>\n",
       "</table>\n",
       "</div>"
      ],
      "text/plain": [
       "      idaviso  idpais                                         titulo  \\\n",
       "0     8725750       1               VENDEDOR/A PROVINCIA DE SANTA FE   \n",
       "1    17903700       1                                     Enfermeras   \n",
       "2  1000150677       1                                 Chofer de taxi   \n",
       "3  1000610287       1  CHOFER DE CAMIONETA BAHIA BLANCA - PUNTA ALTA   \n",
       "4  1000872556       1  Operarios de Planta - Rubro Electrodomésticos   \n",
       "\n",
       "                                         descripcion  nombre_zona  ciudad  \\\n",
       "0  <p><strong><strong>Empresa:</strong></strong> ...            7      30   \n",
       "1  <p>Solicitamos para importante cadena de farma...            7      30   \n",
       "2  <p>TE GUSTA MANEJAR? QUERES GANAR PLATA HACIEN...            1      30   \n",
       "3  <p><strong>Somos una empresa multinacional que...            7      30   \n",
       "4  <p><strong>OPERARIOS DE PLANTA</strong></p><p>...            7      30   \n",
       "\n",
       "   tipo_de_trabajo  nivel_laboral  nombre_area  denominacion_empresa  \n",
       "0                1              5           30                  4005  \n",
       "1                1              5          158                  1640  \n",
       "2                1              5          181                  1561  \n",
       "3                1              5          181                  4119  \n",
       "4                1              5          143                  1267  "
      ]
     },
     "execution_count": 15,
     "metadata": {},
     "output_type": "execute_result"
    }
   ],
   "source": [
    "df_avisos.head()"
   ]
  },
  {
   "cell_type": "code",
   "execution_count": 16,
   "metadata": {},
   "outputs": [],
   "source": [
    "from math import fmod\n",
    "\n",
    "def n_grams(string, n):\n",
    "    if len(string) < n:\n",
    "        return []\n",
    "    if len(string) == n:\n",
    "        return [string]\n",
    "    ret = []\n",
    "    for i in range(0, len(string) - n + 1):\n",
    "        ret.append(string[i:i + n])\n",
    "    return ret\n",
    "\n",
    "# sacado de carpeta\n",
    "# (v & 0xff) = 1er byte de v\n",
    "# (v >> 8) = desplazo 1 byte hacia la derecha\n",
    "def jenkins_hash(v):\n",
    "    h = 0\n",
    "    while (v & 0xff) != 0:\n",
    "        byte = (v & 0xff)\n",
    "        h += byte\n",
    "        h += (h << 10)\n",
    "        h ^= (h >> 6)\n",
    "        v = (v >> 8)\n",
    "    h += (h << 3)\n",
    "    h ^= (h >> 11)\n",
    "    h += (h << 15)\n",
    "    return h\n",
    "\n",
    "# apunte pg 230 \"Hashing Universal para claves de longitud variable\" \n",
    "def custom_str_hash(string):\n",
    "    a = 13\n",
    "    p = 9941\n",
    "    h = 0\n",
    "    for i, c in enumerate(string):\n",
    "        h = ord(c) * a**i % p \n",
    "    return jenkins_hash(h)\n",
    "\n",
    "# min hashes a la Jaccard\n",
    "def min_hash(string, n_g):\n",
    "    h = None\n",
    "    for gram in n_grams(string, n_g):\n",
    "        h_gram = custom_str_hash(gram)\n",
    "        if h == None or h_gram < h:\n",
    "            h = h_gram\n",
    "    return h if h != None else 0"
   ]
  },
  {
   "cell_type": "code",
   "execution_count": 17,
   "metadata": {},
   "outputs": [],
   "source": [
    "vmin_hash = np.vectorize(min_hash)\n",
    "\n",
    "# numero primo para achicar los min hashes calculados\n",
    "prime = 235723\n",
    "\n",
    "# min hashes para los textos (experimental, buscar mejores formas)\n",
    "df_avisos['minhash_titulo'] = vmin_hash(df_avisos['titulo'], 5) % prime\n",
    "df_avisos['minhash_descripcion'] = vmin_hash(df_avisos['descripcion'], 5) % prime\n",
    "\n",
    "df_avisos.drop(['titulo', 'descripcion'], axis=1, inplace=True)\n",
    "\n",
    "#df_avisos['minhash_titulo'] = np.random.rand(df_avisos.shape[0]) * 100000 % prime\n",
    "#df_avisos['minhash_descripcion'] = np.random.rand(df_avisos.shape[0]) * 100000 % prime"
   ]
  },
  {
   "cell_type": "code",
   "execution_count": 18,
   "metadata": {},
   "outputs": [
    {
     "name": "stdout",
     "output_type": "stream",
     "text": [
      "(6187927, 13)\n",
      "  idpostulante  sexo  edad     idaviso  idpais  nombre_zona  ciudad  \\\n",
      "0         NM5M     0  48.0  1112257047       1            7      30   \n",
      "1        8krKL     1  46.0  1112257047       1            7      30   \n",
      "2       EDEpY4     0  38.0  1112257047       1            7      30   \n",
      "3       1lejrO     0  50.0  1112257047       1            7      30   \n",
      "4       Y0MNYJ     0  41.0  1112257047       1            7      30   \n",
      "\n",
      "   tipo_de_trabajo  nivel_laboral  nombre_area  denominacion_empresa  \\\n",
      "0                2              4           14                  1369   \n",
      "1                2              4           14                  1369   \n",
      "2                2              4           14                  1369   \n",
      "3                2              4           14                  1369   \n",
      "4                2              4           14                  1369   \n",
      "\n",
      "   minhash_titulo  minhash_descripcion  \n",
      "0          211761                84263  \n",
      "1          211761                84263  \n",
      "2          211761                84263  \n",
      "3          211761                84263  \n",
      "4          211761                84263  \n"
     ]
    }
   ],
   "source": [
    "# merge de todos los datos\n",
    "df_general = df_postulantes.merge(df_postulaciones, on='idpostulante').merge(df_avisos, on='idaviso')\n",
    "\n",
    "#del df_postulantes\n",
    "#del df_postulaciones\n",
    "#del df_avisos\n",
    "\n",
    "print(df_general.shape)\n",
    "print(df_general.head())"
   ]
  },
  {
   "cell_type": "markdown",
   "metadata": {},
   "source": [
    "## Preparación de datos para entrenamiento y predicción"
   ]
  },
  {
   "cell_type": "markdown",
   "metadata": {},
   "source": [
    "#### Generación de postulaciones"
   ]
  },
  {
   "cell_type": "code",
   "execution_count": 19,
   "metadata": {},
   "outputs": [],
   "source": [
    "df_general['sepostulo'] = 1"
   ]
  },
  {
   "cell_type": "markdown",
   "metadata": {},
   "source": [
    "#### Generación de \"no\" postulaciones"
   ]
  },
  {
   "cell_type": "code",
   "execution_count": 21,
   "metadata": {},
   "outputs": [],
   "source": [
    "sample = 3000000"
   ]
  },
  {
   "cell_type": "code",
   "execution_count": 22,
   "metadata": {},
   "outputs": [
    {
     "name": "stdout",
     "output_type": "stream",
     "text": [
      "(3000000, 3)\n",
      "(3000000, 10)\n"
     ]
    }
   ],
   "source": [
    "df_postulantes_sample = df_postulantes.sample(sample, replace=True).reset_index().drop(\"index\",1)\n",
    "df_avisos_sample = df_avisos.sample(sample, replace=True).reset_index().drop(\"index\",1)\n",
    "\n",
    "print(df_postulantes_sample.shape)\n",
    "print(df_avisos_sample.shape)"
   ]
  },
  {
   "cell_type": "code",
   "execution_count": 23,
   "metadata": {},
   "outputs": [
    {
     "name": "stdout",
     "output_type": "stream",
     "text": [
      "(2999678, 13)\n"
     ]
    }
   ],
   "source": [
    "df_no_postulaciones = df_postulantes_sample.join(df_avisos_sample)\n",
    "df_no_postulaciones = df_no_postulaciones.merge(df_postulaciones, on=[\"idaviso\",\"idpostulante\"], how=\"left\")\n",
    "df_no_postulaciones.drop_duplicates(['idaviso', 'idpostulante'], keep='first', inplace=True)\n",
    "print(df_no_postulaciones.shape)"
   ]
  },
  {
   "cell_type": "code",
   "execution_count": 24,
   "metadata": {},
   "outputs": [],
   "source": [
    "# vamos a asumir que no hay postulaciones duplicadas dado que pertenecen a distintos periodos"
   ]
  },
  {
   "cell_type": "code",
   "execution_count": 25,
   "metadata": {},
   "outputs": [
    {
     "data": {
      "text/html": [
       "<div>\n",
       "<style scoped>\n",
       "    .dataframe tbody tr th:only-of-type {\n",
       "        vertical-align: middle;\n",
       "    }\n",
       "\n",
       "    .dataframe tbody tr th {\n",
       "        vertical-align: top;\n",
       "    }\n",
       "\n",
       "    .dataframe thead th {\n",
       "        text-align: right;\n",
       "    }\n",
       "</style>\n",
       "<table border=\"1\" class=\"dataframe\">\n",
       "  <thead>\n",
       "    <tr style=\"text-align: right;\">\n",
       "      <th></th>\n",
       "      <th>idpostulante</th>\n",
       "      <th>sexo</th>\n",
       "      <th>edad</th>\n",
       "      <th>idaviso</th>\n",
       "      <th>idpais</th>\n",
       "      <th>nombre_zona</th>\n",
       "      <th>ciudad</th>\n",
       "      <th>tipo_de_trabajo</th>\n",
       "      <th>nivel_laboral</th>\n",
       "      <th>nombre_area</th>\n",
       "      <th>denominacion_empresa</th>\n",
       "      <th>minhash_titulo</th>\n",
       "      <th>minhash_descripcion</th>\n",
       "      <th>sepostulo</th>\n",
       "    </tr>\n",
       "  </thead>\n",
       "  <tbody>\n",
       "    <tr>\n",
       "      <th>0</th>\n",
       "      <td>NzrQD6l</td>\n",
       "      <td>0</td>\n",
       "      <td>62.0</td>\n",
       "      <td>1112129657</td>\n",
       "      <td>1</td>\n",
       "      <td>7</td>\n",
       "      <td>30</td>\n",
       "      <td>1</td>\n",
       "      <td>5</td>\n",
       "      <td>185</td>\n",
       "      <td>1826</td>\n",
       "      <td>53288</td>\n",
       "      <td>181256</td>\n",
       "      <td>0</td>\n",
       "    </tr>\n",
       "    <tr>\n",
       "      <th>1</th>\n",
       "      <td>EQ5pO4</td>\n",
       "      <td>0</td>\n",
       "      <td>26.0</td>\n",
       "      <td>1112493483</td>\n",
       "      <td>1</td>\n",
       "      <td>7</td>\n",
       "      <td>30</td>\n",
       "      <td>1</td>\n",
       "      <td>5</td>\n",
       "      <td>185</td>\n",
       "      <td>215</td>\n",
       "      <td>53288</td>\n",
       "      <td>160391</td>\n",
       "      <td>0</td>\n",
       "    </tr>\n",
       "    <tr>\n",
       "      <th>2</th>\n",
       "      <td>Bm5OvGv</td>\n",
       "      <td>0</td>\n",
       "      <td>28.0</td>\n",
       "      <td>1112237787</td>\n",
       "      <td>1</td>\n",
       "      <td>7</td>\n",
       "      <td>30</td>\n",
       "      <td>1</td>\n",
       "      <td>4</td>\n",
       "      <td>2</td>\n",
       "      <td>223</td>\n",
       "      <td>181256</td>\n",
       "      <td>181256</td>\n",
       "      <td>0</td>\n",
       "    </tr>\n",
       "    <tr>\n",
       "      <th>3</th>\n",
       "      <td>6pR3dR</td>\n",
       "      <td>1</td>\n",
       "      <td>31.0</td>\n",
       "      <td>1112197173</td>\n",
       "      <td>1</td>\n",
       "      <td>7</td>\n",
       "      <td>30</td>\n",
       "      <td>1</td>\n",
       "      <td>5</td>\n",
       "      <td>78</td>\n",
       "      <td>3755</td>\n",
       "      <td>181256</td>\n",
       "      <td>181256</td>\n",
       "      <td>0</td>\n",
       "    </tr>\n",
       "    <tr>\n",
       "      <th>4</th>\n",
       "      <td>10x0wE</td>\n",
       "      <td>1</td>\n",
       "      <td>44.0</td>\n",
       "      <td>1112414680</td>\n",
       "      <td>1</td>\n",
       "      <td>7</td>\n",
       "      <td>30</td>\n",
       "      <td>1</td>\n",
       "      <td>1</td>\n",
       "      <td>34</td>\n",
       "      <td>2432</td>\n",
       "      <td>53288</td>\n",
       "      <td>181256</td>\n",
       "      <td>0</td>\n",
       "    </tr>\n",
       "  </tbody>\n",
       "</table>\n",
       "</div>"
      ],
      "text/plain": [
       "  idpostulante  sexo  edad     idaviso  idpais  nombre_zona  ciudad  \\\n",
       "0      NzrQD6l     0  62.0  1112129657       1            7      30   \n",
       "1       EQ5pO4     0  26.0  1112493483       1            7      30   \n",
       "2      Bm5OvGv     0  28.0  1112237787       1            7      30   \n",
       "3       6pR3dR     1  31.0  1112197173       1            7      30   \n",
       "4       10x0wE     1  44.0  1112414680       1            7      30   \n",
       "\n",
       "   tipo_de_trabajo  nivel_laboral  nombre_area  denominacion_empresa  \\\n",
       "0                1              5          185                  1826   \n",
       "1                1              5          185                   215   \n",
       "2                1              4            2                   223   \n",
       "3                1              5           78                  3755   \n",
       "4                1              1           34                  2432   \n",
       "\n",
       "   minhash_titulo  minhash_descripcion  sepostulo  \n",
       "0           53288               181256          0  \n",
       "1           53288               160391          0  \n",
       "2          181256               181256          0  \n",
       "3          181256               181256          0  \n",
       "4           53288               181256          0  "
      ]
     },
     "execution_count": 25,
     "metadata": {},
     "output_type": "execute_result"
    }
   ],
   "source": [
    "df_no_postulaciones['sepostulo'] = 0;\n",
    "df_no_postulaciones.head(5)"
   ]
  },
  {
   "cell_type": "code",
   "execution_count": 26,
   "metadata": {},
   "outputs": [
    {
     "name": "stdout",
     "output_type": "stream",
     "text": [
      "(6187927, 14)\n",
      "(9187605, 14)\n"
     ]
    }
   ],
   "source": [
    "print(df_general.shape)\n",
    "df_general = df_general.append(df_no_postulaciones)\n",
    "print(df_general.shape)"
   ]
  },
  {
   "cell_type": "markdown",
   "metadata": {},
   "source": [
    "#### Extracción de datos"
   ]
  },
  {
   "cell_type": "code",
   "execution_count": 27,
   "metadata": {},
   "outputs": [],
   "source": [
    "# me quedo solo con los datos necesarios para ML\n",
    "#datos_entrenamiento = df_general[['sexo', 'edad', 'idpais', 'nombre_zona', 'ciudad',\n",
    "#                               'tipo_de_trabajo', 'nivel_laboral', 'nombre_area',\n",
    "#                               'denominacion_empresa', 'minhash_titulo', 'minhash_descripcion']].values\n",
    "\n",
    "# target = si se postula o no. Para estos casos es si (True)\n",
    "#targets_entrenamiento = df_general['sepostulo']\n",
    "\n",
    "#datos_entrenamiento, targets_entrenamiento = shuffle(datos_entrenamiento, targets_entrenamiento, random_state=13)"
   ]
  },
  {
   "cell_type": "markdown",
   "metadata": {},
   "source": [
    "#### Carga de datos a predecir"
   ]
  },
  {
   "cell_type": "code",
   "execution_count": 28,
   "metadata": {},
   "outputs": [
    {
     "name": "stdout",
     "output_type": "stream",
     "text": [
      "(100000, 3)\n",
      "(100000, 5)\n",
      "(100000, 14)\n"
     ]
    }
   ],
   "source": [
    "df_test_final = pd.read_csv('../datos_navent_fiuba/test_final_100k.csv')\n",
    "print(df_test_final.shape)\n",
    "\n",
    "df_test_final = df_test_final.merge(df_postulantes, on='idpostulante')\n",
    "print(df_test_final.shape)\n",
    "df_test_final = df_test_final.merge(df_avisos, on='idaviso')\n",
    "print(df_test_final.shape)\n",
    "\n",
    "#datos_prediccion = df_test_final[['sexo', 'edad', 'idpais', 'nombre_zona', 'ciudad',\n",
    "#                               'tipo_de_trabajo', 'nivel_laboral', 'nombre_area',\n",
    "#                               'denominacion_empresa', 'minhash_titulo', 'minhash_descripcion']].values"
   ]
  },
  {
   "cell_type": "markdown",
   "metadata": {},
   "source": [
    "## Ejecución del algoritmo de ML"
   ]
  },
  {
   "cell_type": "code",
   "execution_count": 29,
   "metadata": {},
   "outputs": [],
   "source": [
    "columnas_datos = ['sexo', 'edad', 'idpais', 'nombre_zona', 'ciudad', 'tipo_de_trabajo', 'nivel_laboral', 'nombre_area', 'denominacion_empresa', 'minhash_titulo', 'minhash_descripcion']\n",
    "columnas_target = ['sepostulo']"
   ]
  },
  {
   "cell_type": "code",
   "execution_count": 30,
   "metadata": {},
   "outputs": [],
   "source": [
    "df_resultado = pd.DataFrame()\n",
    "df_resultado['id'] = df_test_final['id']"
   ]
  },
  {
   "cell_type": "code",
   "execution_count": 31,
   "metadata": {},
   "outputs": [],
   "source": [
    "def guardar_res(df_res, predicciones, algoritmo):\n",
    "    now = datetime.datetime.now()\n",
    "    filename = \"./submissions/{0}-{1}-{2}.csv\".format(algoritmo, now.date(), now.time())\n",
    "    \n",
    "    df_res['sepostulo'] = predicciones\n",
    "    df_res.to_csv(filename, index=False)"
   ]
  },
  {
   "cell_type": "markdown",
   "metadata": {},
   "source": [
    "### Decision Tree"
   ]
  },
  {
   "cell_type": "code",
   "execution_count": 32,
   "metadata": {},
   "outputs": [],
   "source": [
    "# http://scikit-learn.org/stable/modules/generated/sklearn.tree.DecisionTreeClassifier.html\n",
    "params = { 'max_depth': 1, 'random_state': 29 }\n",
    "\n",
    "treeclassifier = DecisionTreeClassifier(**params)\n",
    "treeclassifier.fit(df_general[columnas_datos], df_general[columnas_target])\n",
    "\n",
    "sepostulo_predicciones = treeclassifier.predict(df_test_final[columnas_datos])\n",
    "\n",
    "guardar_res(df_resultado, sepostulo_predicciones, \"DecisionTree\")"
   ]
  },
  {
   "cell_type": "markdown",
   "metadata": {},
   "source": [
    "### Random Forest"
   ]
  },
  {
   "cell_type": "code",
   "execution_count": 1,
   "metadata": {},
   "outputs": [
    {
     "ename": "NameError",
     "evalue": "name 'RandomForestClassifier' is not defined",
     "output_type": "error",
     "traceback": [
      "\u001b[0;31m---------------------------------------------------------------------------\u001b[0m",
      "\u001b[0;31mNameError\u001b[0m                                 Traceback (most recent call last)",
      "\u001b[0;32m<ipython-input-1-23e62bc4272b>\u001b[0m in \u001b[0;36m<module>\u001b[0;34m()\u001b[0m\n\u001b[1;32m      2\u001b[0m \u001b[0mparams\u001b[0m \u001b[0;34m=\u001b[0m \u001b[0;34m{\u001b[0m \u001b[0;34m'max_depth'\u001b[0m\u001b[0;34m:\u001b[0m \u001b[0;32mNone\u001b[0m\u001b[0;34m,\u001b[0m \u001b[0;34m'random_state'\u001b[0m\u001b[0;34m:\u001b[0m \u001b[0;36m29\u001b[0m \u001b[0;34m}\u001b[0m\u001b[0;34m\u001b[0m\u001b[0m\n\u001b[1;32m      3\u001b[0m \u001b[0;34m\u001b[0m\u001b[0m\n\u001b[0;32m----> 4\u001b[0;31m \u001b[0mrndforestclassifier\u001b[0m \u001b[0;34m=\u001b[0m \u001b[0mRandomForestClassifier\u001b[0m\u001b[0;34m(\u001b[0m\u001b[0;34m**\u001b[0m\u001b[0mparams\u001b[0m\u001b[0;34m)\u001b[0m\u001b[0;34m\u001b[0m\u001b[0m\n\u001b[0m\u001b[1;32m      5\u001b[0m \u001b[0mrndforestclassifier\u001b[0m\u001b[0;34m.\u001b[0m\u001b[0mfit\u001b[0m\u001b[0;34m(\u001b[0m\u001b[0mdf_general\u001b[0m\u001b[0;34m[\u001b[0m\u001b[0mcolumnas_datos\u001b[0m\u001b[0;34m]\u001b[0m\u001b[0;34m,\u001b[0m \u001b[0mdf_general\u001b[0m\u001b[0;34m[\u001b[0m\u001b[0mcolumnas_target\u001b[0m\u001b[0;34m]\u001b[0m\u001b[0;34m.\u001b[0m\u001b[0mvalues\u001b[0m\u001b[0;34m)\u001b[0m\u001b[0;34m\u001b[0m\u001b[0m\n\u001b[1;32m      6\u001b[0m \u001b[0;34m\u001b[0m\u001b[0m\n",
      "\u001b[0;31mNameError\u001b[0m: name 'RandomForestClassifier' is not defined"
     ]
    }
   ],
   "source": [
    "# http://scikit-learn.org/stable/modules/generated/sklearn.tree.DecisionTreeClassifier.html\n",
    "params = { 'max_depth': None, 'random_state': 29 }\n",
    "\n",
    "rndforestclassifier = RandomForestClassifier(**params)\n",
    "rndforestclassifier.fit(df_general[columnas_datos], df_general[columnas_target].values)\n",
    "\n",
    "sepostulo_predicciones = rndforestclassifier.predict(df_test_final[columnas_datos])\n",
    "\n",
    "guardar_res(df_resultado, sepostulo_predicciones, \"RandomForest\")"
   ]
  },
  {
   "cell_type": "markdown",
   "metadata": {},
   "source": [
    "### XGBoost"
   ]
  },
  {
   "cell_type": "code",
   "execution_count": null,
   "metadata": {},
   "outputs": [],
   "source": [
    "# http://scikit-learn.org/stable/modules/generated/sklearn.ensemble.GradientBoostingClassifier.html\n",
    "params = {'n_estimators': 3, 'max_depth': 5, 'min_samples_split': 2, 'learning_rate': 0.1 }\n",
    "\n",
    "xgbclassifier = GradientBoostingClassifier(**params)\n",
    "xgbclassifier.fit(df_general[columnas_datos], df_general[columnas_target])\n",
    "\n",
    "sepostulo_predicciones = xgbclassifier.predict(df_test_final[columnas_datos].values)\n",
    "\n",
    "guardar_res(df_resultado, sepostulo_predicciones, \"XGBoost\")"
   ]
  },
  {
   "cell_type": "markdown",
   "metadata": {},
   "source": [
    "### AdaBoost"
   ]
  },
  {
   "cell_type": "code",
   "execution_count": null,
   "metadata": {},
   "outputs": [],
   "source": [
    "# http://scikit-learn.org/stable/modules/generated/sklearn.ensemble.AdaBoostClassifier.html\n",
    "params = {'n_estimators': 1, 'learning_rate': 0.01, 'random_state': 29}\n",
    "\n",
    "adaboosclassifier = AdaBoostClassifier(**params)\n",
    "adaboosclassifier.fit(df_general[columnas_datos], df_general[columnas_target])\n",
    "\n",
    "sepostulo_predicciones = adaboosclassifier.predict(df_test_final[columnas_datos])\n",
    "\n",
    "guardar_res(df_resultado, sepostulo_predicciones, \"AdaBoost\")"
   ]
  },
  {
   "cell_type": "markdown",
   "metadata": {},
   "source": [
    "### SVM (RBF)"
   ]
  },
  {
   "cell_type": "code",
   "execution_count": null,
   "metadata": {},
   "outputs": [],
   "source": [
    "# http://scikit-learn.org/stable/modules/generated/sklearn.neural_network.MLPClassifier.html\n",
    "params = {'C': 1.0, 'gamma': 'auto'}\n",
    "\n",
    "svcclassifier = SVC(**params)\n",
    "svcclassifier.fit(df_general[columnas_datos], df_general[columnas_target])\n",
    "\n",
    "sepostulo_predicciones = svcclassifier.predict(df_test_final[columnas_datos])\n",
    "\n",
    "guardar_res(df_resultado, sepostulo_predicciones, \"SVM(RBF)\")"
   ]
  },
  {
   "cell_type": "markdown",
   "metadata": {},
   "source": [
    "### Red Neuronal (Multi-Layer Perceptron)"
   ]
  },
  {
   "cell_type": "code",
   "execution_count": null,
   "metadata": {},
   "outputs": [],
   "source": [
    "# http://scikit-learn.org/stable/modules/generated/sklearn.neural_network.MLPClassifier.html\n",
    "params = {'solver': 'lbfgs', 'alpha': 1e-5, 'hidden_layer_sizes': (5, 2), 'random_state': 1}\n",
    "\n",
    "mlpclassifier = MLPClassifier(**params)\n",
    "mlpclassifier.fit(df_general[columnas_datos], df_general[columnas_target])\n",
    "\n",
    "sepostulo_predicciones = mlpclassifier.predict(df_test_final[columnas_datos])\n",
    "\n",
    "guardar_res(df_resultado, sepostulo_predicciones, \"MLP\")"
   ]
  }
 ],
 "metadata": {
  "kernelspec": {
   "display_name": "Python 3",
   "language": "python",
   "name": "python3"
  },
  "language_info": {
   "codemirror_mode": {
    "name": "ipython",
    "version": 3
   },
   "file_extension": ".py",
   "mimetype": "text/x-python",
   "name": "python",
   "nbconvert_exporter": "python",
   "pygments_lexer": "ipython3",
   "version": "3.6.4"
  }
 },
 "nbformat": 4,
 "nbformat_minor": 2
}
