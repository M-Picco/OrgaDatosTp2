{
 "cells": [
  {
   "cell_type": "markdown",
   "metadata": {},
   "source": [
    "# Predicción de postulación para un aviso"
   ]
  },
  {
   "cell_type": "code",
   "execution_count": 1,
   "metadata": {},
   "outputs": [],
   "source": [
    "import numpy as np\n",
    "import pandas as pd\n",
    "import gc\n",
    "import datetime\n",
    "import re\n",
    "from sklearn.ensemble import RandomForestClassifier, GradientBoostingClassifier, AdaBoostClassifier\n",
    "from sklearn.neural_network import MLPClassifier\n",
    "from sklearn.svm import SVC\n",
    "from sklearn.tree import DecisionTreeClassifier\n",
    "from sklearn.utils import shuffle\n",
    "from sklearn.metrics import precision_score\n",
    "from sklearn.preprocessing import LabelEncoder"
   ]
  },
  {
   "cell_type": "code",
   "execution_count": 2,
   "metadata": {},
   "outputs": [],
   "source": [
    "SAMPLE_SIZE = 750000"
   ]
  },
  {
   "cell_type": "markdown",
   "metadata": {},
   "source": [
    "## Carga y limpieza de datos / Feature Engineering"
   ]
  },
  {
   "cell_type": "code",
   "execution_count": 3,
   "metadata": {},
   "outputs": [
    {
     "data": {
      "text/plain": [
       "(504407, 3)"
      ]
     },
     "execution_count": 3,
     "metadata": {},
     "output_type": "execute_result"
    }
   ],
   "source": [
    "# cargo postulantes\n",
    "df_postulantes1 = pd.read_csv('../datos_navent_fiuba/datos_navent/fiuba_2_postulantes_genero_y_edad.csv', parse_dates=['fechanacimiento'])\n",
    "df_postulantes2 = pd.read_csv('../datos_navent_fiuba/fiuba_hasta_15_abril/fiuba_2_postulantes_genero_y_edad.csv', parse_dates=['fechanacimiento'])\n",
    "df_postulantes3 = pd.read_csv('../datos_navent_fiuba/fiuba_desde_15_abril/fiuba_2_postulantes_genero_y_edad.csv', parse_dates=['fechanacimiento'])\n",
    "\n",
    "df_postulantes = df_postulantes1.append(df_postulantes2).append(df_postulantes3)\n",
    "\n",
    "del df_postulantes1\n",
    "del df_postulantes2\n",
    "del df_postulantes3\n",
    "\n",
    "df_postulantes.drop_duplicates(['idpostulante'], keep='first', inplace=True)\n",
    "\n",
    "df_postulantes.shape"
   ]
  },
  {
   "cell_type": "code",
   "execution_count": 4,
   "metadata": {},
   "outputs": [],
   "source": [
    "# http://scikit-learn.org/stable/modules/generated/sklearn.preprocessing.LabelEncoder.html\n",
    "# guardamos los codificadores (label => numero y visceversa) en un diccionario\n",
    "label_encoders = {}"
   ]
  },
  {
   "cell_type": "code",
   "execution_count": 5,
   "metadata": {},
   "outputs": [
    {
     "name": "stdout",
     "output_type": "stream",
     "text": [
      "(504400, 3)\n",
      "  idpostulante  sexo  edad\n",
      "0         NM5M     0  48.0\n",
      "1         5awk     0  56.0\n",
      "2         ZaO5     0  40.0\n",
      "3         NdJl     1  49.0\n",
      "4         eo2p     1  37.0\n"
     ]
    }
   ],
   "source": [
    "# limpieza de datos de fecha de nacimiento\n",
    "df_postulantes['fechanacimiento'] = pd.to_datetime(df_postulantes['fechanacimiento'], errors='coerce')\n",
    "\n",
    "df_postulantes['edad'] = datetime.datetime.now().year - df_postulantes['fechanacimiento'].dt.year\n",
    "df_postulantes['edad'] = df_postulantes['edad'].fillna(0)\n",
    "\n",
    "df_postulantes = df_postulantes.drop(['fechanacimiento'], axis=1)\n",
    "\n",
    "df_postulantes = df_postulantes.loc[(df_postulantes['sexo'] == 'FEM') | (df_postulantes['sexo'] == 'MASC') | (df_postulantes['sexo'] == 'NO_DECLARA')]\n",
    "\n",
    "# convierto variables categóricas a numéricas\n",
    "label_encoders['sexo'] = LabelEncoder().fit(['FEM', 'MASC', 'NO_DECLARA'])\n",
    "df_postulantes['sexo'] = label_encoders['sexo'].transform(df_postulantes['sexo'])\n",
    "\n",
    "print(df_postulantes.shape)\n",
    "print(df_postulantes.head())"
   ]
  },
  {
   "cell_type": "code",
   "execution_count": 6,
   "metadata": {},
   "outputs": [
    {
     "name": "stdout",
     "output_type": "stream",
     "text": [
      "(447909, 3)\n",
      "  idpostulante         nombre    estado\n",
      "0         NdJl       Posgrado  En Curso\n",
      "1         8BkL  Universitario  En Curso\n",
      "2         1d2B  Universitario  En Curso\n",
      "3         NPBx  Universitario  En Curso\n",
      "5         Ym2X           Otro  En Curso\n"
     ]
    }
   ],
   "source": [
    "# cargo educacion de los estudiantes\n",
    "df_edu1 = pd.read_csv('../datos_navent_fiuba/datos_navent/fiuba_1_postulantes_educacion.csv')\n",
    "df_edu2 = pd.read_csv('../datos_navent_fiuba/fiuba_hasta_15_abril/fiuba_1_postulantes_educacion.csv')\n",
    "df_edu3 = pd.read_csv('../datos_navent_fiuba/fiuba_desde_15_abril/fiuba_1_postulantes_educacion.csv')\n",
    "\n",
    "df_edu = df_edu1.append(df_edu2).append(df_edu3)\n",
    "\n",
    "del df_edu1\n",
    "del df_edu2\n",
    "del df_edu3\n",
    "\n",
    "df_edu.drop_duplicates(['idpostulante'], keep='first', inplace=True)\n",
    "\n",
    "print(df_edu.shape)\n",
    "print(df_edu.head())"
   ]
  },
  {
   "cell_type": "code",
   "execution_count": 7,
   "metadata": {},
   "outputs": [],
   "source": [
    "# renombro columnas para no confundirlas luego de mergear\n",
    "df_edu = df_edu.rename(columns={'nombre':'nombre_edu', 'estado': 'estado_edu'});"
   ]
  },
  {
   "cell_type": "code",
   "execution_count": 8,
   "metadata": {},
   "outputs": [
    {
     "data": {
      "text/html": [
       "<div>\n",
       "<style scoped>\n",
       "    .dataframe tbody tr th:only-of-type {\n",
       "        vertical-align: middle;\n",
       "    }\n",
       "\n",
       "    .dataframe tbody tr th {\n",
       "        vertical-align: top;\n",
       "    }\n",
       "\n",
       "    .dataframe thead th {\n",
       "        text-align: right;\n",
       "    }\n",
       "</style>\n",
       "<table border=\"1\" class=\"dataframe\">\n",
       "  <thead>\n",
       "    <tr style=\"text-align: right;\">\n",
       "      <th></th>\n",
       "      <th>idpostulante</th>\n",
       "      <th>nombre_edu</th>\n",
       "      <th>estado_edu</th>\n",
       "    </tr>\n",
       "  </thead>\n",
       "  <tbody>\n",
       "    <tr>\n",
       "      <th>0</th>\n",
       "      <td>NdJl</td>\n",
       "      <td>3</td>\n",
       "      <td>1</td>\n",
       "    </tr>\n",
       "    <tr>\n",
       "      <th>1</th>\n",
       "      <td>8BkL</td>\n",
       "      <td>6</td>\n",
       "      <td>1</td>\n",
       "    </tr>\n",
       "    <tr>\n",
       "      <th>2</th>\n",
       "      <td>1d2B</td>\n",
       "      <td>6</td>\n",
       "      <td>1</td>\n",
       "    </tr>\n",
       "    <tr>\n",
       "      <th>3</th>\n",
       "      <td>NPBx</td>\n",
       "      <td>6</td>\n",
       "      <td>1</td>\n",
       "    </tr>\n",
       "    <tr>\n",
       "      <th>5</th>\n",
       "      <td>Ym2X</td>\n",
       "      <td>2</td>\n",
       "      <td>1</td>\n",
       "    </tr>\n",
       "  </tbody>\n",
       "</table>\n",
       "</div>"
      ],
      "text/plain": [
       "  idpostulante  nombre_edu  estado_edu\n",
       "0         NdJl           3           1\n",
       "1         8BkL           6           1\n",
       "2         1d2B           6           1\n",
       "3         NPBx           6           1\n",
       "5         Ym2X           2           1"
      ]
     },
     "execution_count": 8,
     "metadata": {},
     "output_type": "execute_result"
    }
   ],
   "source": [
    "# convierto variables categóricas a numéricas\n",
    "label_encoders['nombre_edu'] = LabelEncoder().fit(df_edu['nombre_edu'])\n",
    "label_encoders['estado_edu'] = LabelEncoder().fit(df_edu['estado_edu'])\n",
    "\n",
    "df_edu['nombre_edu'] = label_encoders['nombre_edu'].transform(df_edu['nombre_edu'])\n",
    "df_edu['estado_edu'] = label_encoders['estado_edu'].transform(df_edu['estado_edu'])\n",
    "\n",
    "df_edu.head()"
   ]
  },
  {
   "cell_type": "code",
   "execution_count": 9,
   "metadata": {},
   "outputs": [
    {
     "name": "stdout",
     "output_type": "stream",
     "text": [
      "(447906, 5)\n",
      "  idpostulante  sexo  edad  nombre_edu  estado_edu\n",
      "0         NM5M     0  48.0           4           2\n",
      "1         5awk     0  56.0           6           2\n",
      "2         ZaO5     0  40.0           5           2\n",
      "3         NdJl     1  49.0           3           1\n",
      "4         eo2p     1  37.0           4           2\n"
     ]
    }
   ],
   "source": [
    "df_posts_edu = df_postulantes.merge(df_edu, on='idpostulante')\n",
    "\n",
    "# me quedo con el de mayor educacion registro para cada postulante\n",
    "df_posts_edu.sort_values(by='nombre_edu', ascending=False)\n",
    "\n",
    "df_posts_edu.drop_duplicates(subset = \"idpostulante\",keep= \"first\", inplace=True)\n",
    "\n",
    "print(df_posts_edu.shape)\n",
    "print(df_posts_edu.head())\n",
    "\n",
    "del df_edu\n",
    "del df_postulantes"
   ]
  },
  {
   "cell_type": "code",
   "execution_count": 10,
   "metadata": {},
   "outputs": [
    {
     "name": "stdout",
     "output_type": "stream",
     "text": [
      "(6603752, 3)\n",
      "      idaviso idpostulante     fechapostulacion\n",
      "0  1112257047         NM5M  2018-01-15 16:22:34\n",
      "1  1111920714         NM5M  2018-02-06 09:04:50\n",
      "2  1112346945         NM5M  2018-02-22 09:04:47\n",
      "3  1112345547         NM5M  2018-02-22 09:04:59\n",
      "4  1112237522         5awk  2018-01-25 18:55:03\n"
     ]
    }
   ],
   "source": [
    "# cargo postulaciones\n",
    "df_postulaciones1 = pd.read_csv('../datos_navent_fiuba/datos_navent/fiuba_4_postulaciones.csv')\n",
    "df_postulaciones2 = pd.read_csv('../datos_navent_fiuba/fiuba_hasta_15_abril/fiuba_4_postulaciones.csv')\n",
    "\n",
    "df_postulaciones = df_postulaciones1.append(df_postulaciones2)\n",
    "\n",
    "del df_postulaciones1\n",
    "del df_postulaciones2\n",
    "\n",
    "df_postulaciones.drop_duplicates(['idaviso', 'idpostulante'], keep='first', inplace=True)\n",
    "\n",
    "print(df_postulaciones.shape)\n",
    "print(df_postulaciones.head())"
   ]
  },
  {
   "cell_type": "code",
   "execution_count": 11,
   "metadata": {},
   "outputs": [
    {
     "data": {
      "text/html": [
       "<div>\n",
       "<style scoped>\n",
       "    .dataframe tbody tr th:only-of-type {\n",
       "        vertical-align: middle;\n",
       "    }\n",
       "\n",
       "    .dataframe tbody tr th {\n",
       "        vertical-align: top;\n",
       "    }\n",
       "\n",
       "    .dataframe thead th {\n",
       "        text-align: right;\n",
       "    }\n",
       "</style>\n",
       "<table border=\"1\" class=\"dataframe\">\n",
       "  <thead>\n",
       "    <tr style=\"text-align: right;\">\n",
       "      <th></th>\n",
       "      <th>idaviso</th>\n",
       "      <th>idpostulante</th>\n",
       "    </tr>\n",
       "  </thead>\n",
       "  <tbody>\n",
       "    <tr>\n",
       "      <th>0</th>\n",
       "      <td>1112257047</td>\n",
       "      <td>NM5M</td>\n",
       "    </tr>\n",
       "    <tr>\n",
       "      <th>1</th>\n",
       "      <td>1111920714</td>\n",
       "      <td>NM5M</td>\n",
       "    </tr>\n",
       "    <tr>\n",
       "      <th>2</th>\n",
       "      <td>1112346945</td>\n",
       "      <td>NM5M</td>\n",
       "    </tr>\n",
       "    <tr>\n",
       "      <th>3</th>\n",
       "      <td>1112345547</td>\n",
       "      <td>NM5M</td>\n",
       "    </tr>\n",
       "    <tr>\n",
       "      <th>4</th>\n",
       "      <td>1112237522</td>\n",
       "      <td>5awk</td>\n",
       "    </tr>\n",
       "  </tbody>\n",
       "</table>\n",
       "</div>"
      ],
      "text/plain": [
       "      idaviso idpostulante\n",
       "0  1112257047         NM5M\n",
       "1  1111920714         NM5M\n",
       "2  1112346945         NM5M\n",
       "3  1112345547         NM5M\n",
       "4  1112237522         5awk"
      ]
     },
     "execution_count": 11,
     "metadata": {},
     "output_type": "execute_result"
    }
   ],
   "source": [
    "# no necesitamos la fecha de postulacion\n",
    "df_postulaciones.drop(['fechapostulacion'], axis=1, inplace=True)\n",
    "df_postulaciones.head()"
   ]
  },
  {
   "cell_type": "code",
   "execution_count": 12,
   "metadata": {},
   "outputs": [
    {
     "name": "stdout",
     "output_type": "stream",
     "text": [
      "(25288, 11)\n",
      "      idaviso  idpais                                         titulo  \\\n",
      "0     8725750       1               VENDEDOR/A PROVINCIA DE SANTA FE   \n",
      "1    17903700       1                                     Enfermeras   \n",
      "2  1000150677       1                                 Chofer de taxi   \n",
      "3  1000610287       1  CHOFER DE CAMIONETA BAHIA BLANCA - PUNTA ALTA   \n",
      "4  1000872556       1  Operarios de Planta - Rubro Electrodomésticos   \n",
      "\n",
      "                                         descripcion        nombre_zona  \\\n",
      "0  <p><strong><strong>Empresa:</strong></strong> ...  Gran Buenos Aires   \n",
      "1  <p>Solicitamos para importante cadena de farma...  Gran Buenos Aires   \n",
      "2  <p>TE GUSTA MANEJAR? QUERES GANAR PLATA HACIEN...    Capital Federal   \n",
      "3  <p><strong>Somos una empresa multinacional que...  Gran Buenos Aires   \n",
      "4  <p><strong>OPERARIOS DE PLANTA</strong></p><p>...  Gran Buenos Aires   \n",
      "\n",
      "  ciudad       mapacalle tipo_de_trabajo         nivel_laboral nombre_area  \\\n",
      "0    NaN             NaN       Full-time  Senior / Semi-Senior   Comercial   \n",
      "1    NaN             NaN       Full-time  Senior / Semi-Senior       Salud   \n",
      "2    NaN  Empedrado 2336       Full-time  Senior / Semi-Senior  Transporte   \n",
      "3    NaN             NaN       Full-time  Senior / Semi-Senior  Transporte   \n",
      "4    NaN             NaN       Full-time  Senior / Semi-Senior  Producción   \n",
      "\n",
      "      denominacion_empresa  \n",
      "0                   VENTOR  \n",
      "1  Farmacias Central Oeste  \n",
      "2              FAMITAX SRL  \n",
      "3      Wurth Argentina S.A  \n",
      "4       ELECTRO OUTLET SRL  \n"
     ]
    }
   ],
   "source": [
    "# cargo avisos\n",
    "df_avisos1 = pd.read_csv('../datos_navent_fiuba/datos_navent/fiuba_6_avisos_detalle.csv')\n",
    "df_avisos2 = pd.read_csv('../datos_navent_fiuba/fiuba_hasta_15_abril/fiuba_6_avisos_detalle.csv')\n",
    "df_avisos3 = pd.read_csv('../datos_navent_fiuba/fiuba_desde_15_abril/fiuba_6_avisos_detalle.csv')\n",
    "df_avisos4 = pd.read_csv('../datos_navent_fiuba/fiuba_desde_15_abril/fiuba_6_avisos_detalle_missing_nivel_laboral.csv')\n",
    "\n",
    "df_avisos = df_avisos1.append(df_avisos2).append(df_avisos3).append(df_avisos4)\n",
    "\n",
    "del df_avisos1\n",
    "del df_avisos2\n",
    "del df_avisos3\n",
    "del df_avisos4\n",
    "\n",
    "df_avisos = df_avisos.drop_duplicates(['idaviso'], keep='first')\n",
    "\n",
    "print(df_avisos.shape)\n",
    "print(df_avisos.head())"
   ]
  },
  {
   "cell_type": "code",
   "execution_count": 13,
   "metadata": {},
   "outputs": [],
   "source": [
    "df_avisos = df_avisos.drop(['mapacalle'], axis=1)"
   ]
  },
  {
   "cell_type": "code",
   "execution_count": 14,
   "metadata": {},
   "outputs": [],
   "source": [
    "# limpieza de NaN, nan, None, etc.\n",
    "df_avisos['ciudad'] = df_avisos['ciudad'].fillna('None')\n",
    "df_avisos['titulo'] = df_avisos['titulo'].fillna('None')\n",
    "df_avisos['descripcion'] = df_avisos['descripcion'].fillna('None')\n",
    "df_avisos['denominacion_empresa'] = df_avisos['denominacion_empresa'].fillna('None')\n",
    "df_avisos['nivel_laboral'] = df_avisos['nivel_laboral'].fillna('None')"
   ]
  },
  {
   "cell_type": "code",
   "execution_count": 15,
   "metadata": {},
   "outputs": [],
   "source": [
    "# convierto variables categóricas a numéricas\n",
    "label_encoders['nombre_zona'] = LabelEncoder().fit(df_avisos['nombre_zona'])\n",
    "label_encoders['ciudad'] = LabelEncoder().fit(df_avisos['ciudad'])\n",
    "label_encoders['tipo_de_trabajo'] = LabelEncoder().fit(df_avisos['tipo_de_trabajo'])\n",
    "label_encoders['nivel_laboral'] = LabelEncoder().fit(df_avisos['nivel_laboral'])\n",
    "label_encoders['nombre_area'] = LabelEncoder().fit(df_avisos['nombre_area'])\n",
    "label_encoders['denominacion_empresa'] = LabelEncoder().fit(df_avisos['denominacion_empresa'])\n",
    "\n",
    "df_avisos['nombre_zona'] = label_encoders['nombre_zona'].transform(df_avisos['nombre_zona'])\n",
    "df_avisos['ciudad'] = label_encoders['ciudad'].transform(df_avisos['ciudad'])\n",
    "df_avisos['tipo_de_trabajo'] = label_encoders['tipo_de_trabajo'].transform(df_avisos['tipo_de_trabajo'])\n",
    "df_avisos['nivel_laboral'] = label_encoders['nivel_laboral'].transform(df_avisos['nivel_laboral'])\n",
    "df_avisos['nombre_area'] = label_encoders['nombre_area'].transform(df_avisos['nombre_area'])\n",
    "df_avisos['denominacion_empresa'] = label_encoders['denominacion_empresa'].transform(df_avisos['denominacion_empresa'])"
   ]
  },
  {
   "cell_type": "code",
   "execution_count": 16,
   "metadata": {},
   "outputs": [
    {
     "data": {
      "text/html": [
       "<div>\n",
       "<style scoped>\n",
       "    .dataframe tbody tr th:only-of-type {\n",
       "        vertical-align: middle;\n",
       "    }\n",
       "\n",
       "    .dataframe tbody tr th {\n",
       "        vertical-align: top;\n",
       "    }\n",
       "\n",
       "    .dataframe thead th {\n",
       "        text-align: right;\n",
       "    }\n",
       "</style>\n",
       "<table border=\"1\" class=\"dataframe\">\n",
       "  <thead>\n",
       "    <tr style=\"text-align: right;\">\n",
       "      <th></th>\n",
       "      <th>idaviso</th>\n",
       "      <th>idpais</th>\n",
       "      <th>titulo</th>\n",
       "      <th>descripcion</th>\n",
       "      <th>nombre_zona</th>\n",
       "      <th>ciudad</th>\n",
       "      <th>tipo_de_trabajo</th>\n",
       "      <th>nivel_laboral</th>\n",
       "      <th>nombre_area</th>\n",
       "      <th>denominacion_empresa</th>\n",
       "    </tr>\n",
       "  </thead>\n",
       "  <tbody>\n",
       "    <tr>\n",
       "      <th>0</th>\n",
       "      <td>8725750</td>\n",
       "      <td>1</td>\n",
       "      <td>VENDEDOR/A PROVINCIA DE SANTA FE</td>\n",
       "      <td>&lt;p&gt;&lt;strong&gt;&lt;strong&gt;Empresa:&lt;/strong&gt;&lt;/strong&gt; ...</td>\n",
       "      <td>7</td>\n",
       "      <td>30</td>\n",
       "      <td>1</td>\n",
       "      <td>5</td>\n",
       "      <td>30</td>\n",
       "      <td>4005</td>\n",
       "    </tr>\n",
       "    <tr>\n",
       "      <th>1</th>\n",
       "      <td>17903700</td>\n",
       "      <td>1</td>\n",
       "      <td>Enfermeras</td>\n",
       "      <td>&lt;p&gt;Solicitamos para importante cadena de farma...</td>\n",
       "      <td>7</td>\n",
       "      <td>30</td>\n",
       "      <td>1</td>\n",
       "      <td>5</td>\n",
       "      <td>158</td>\n",
       "      <td>1640</td>\n",
       "    </tr>\n",
       "    <tr>\n",
       "      <th>2</th>\n",
       "      <td>1000150677</td>\n",
       "      <td>1</td>\n",
       "      <td>Chofer de taxi</td>\n",
       "      <td>&lt;p&gt;TE GUSTA MANEJAR? QUERES GANAR PLATA HACIEN...</td>\n",
       "      <td>1</td>\n",
       "      <td>30</td>\n",
       "      <td>1</td>\n",
       "      <td>5</td>\n",
       "      <td>181</td>\n",
       "      <td>1561</td>\n",
       "    </tr>\n",
       "    <tr>\n",
       "      <th>3</th>\n",
       "      <td>1000610287</td>\n",
       "      <td>1</td>\n",
       "      <td>CHOFER DE CAMIONETA BAHIA BLANCA - PUNTA ALTA</td>\n",
       "      <td>&lt;p&gt;&lt;strong&gt;Somos una empresa multinacional que...</td>\n",
       "      <td>7</td>\n",
       "      <td>30</td>\n",
       "      <td>1</td>\n",
       "      <td>5</td>\n",
       "      <td>181</td>\n",
       "      <td>4119</td>\n",
       "    </tr>\n",
       "    <tr>\n",
       "      <th>4</th>\n",
       "      <td>1000872556</td>\n",
       "      <td>1</td>\n",
       "      <td>Operarios de Planta - Rubro Electrodomésticos</td>\n",
       "      <td>&lt;p&gt;&lt;strong&gt;OPERARIOS DE PLANTA&lt;/strong&gt;&lt;/p&gt;&lt;p&gt;...</td>\n",
       "      <td>7</td>\n",
       "      <td>30</td>\n",
       "      <td>1</td>\n",
       "      <td>5</td>\n",
       "      <td>143</td>\n",
       "      <td>1267</td>\n",
       "    </tr>\n",
       "  </tbody>\n",
       "</table>\n",
       "</div>"
      ],
      "text/plain": [
       "      idaviso  idpais                                         titulo  \\\n",
       "0     8725750       1               VENDEDOR/A PROVINCIA DE SANTA FE   \n",
       "1    17903700       1                                     Enfermeras   \n",
       "2  1000150677       1                                 Chofer de taxi   \n",
       "3  1000610287       1  CHOFER DE CAMIONETA BAHIA BLANCA - PUNTA ALTA   \n",
       "4  1000872556       1  Operarios de Planta - Rubro Electrodomésticos   \n",
       "\n",
       "                                         descripcion  nombre_zona  ciudad  \\\n",
       "0  <p><strong><strong>Empresa:</strong></strong> ...            7      30   \n",
       "1  <p>Solicitamos para importante cadena de farma...            7      30   \n",
       "2  <p>TE GUSTA MANEJAR? QUERES GANAR PLATA HACIEN...            1      30   \n",
       "3  <p><strong>Somos una empresa multinacional que...            7      30   \n",
       "4  <p><strong>OPERARIOS DE PLANTA</strong></p><p>...            7      30   \n",
       "\n",
       "   tipo_de_trabajo  nivel_laboral  nombre_area  denominacion_empresa  \n",
       "0                1              5           30                  4005  \n",
       "1                1              5          158                  1640  \n",
       "2                1              5          181                  1561  \n",
       "3                1              5          181                  4119  \n",
       "4                1              5          143                  1267  "
      ]
     },
     "execution_count": 16,
     "metadata": {},
     "output_type": "execute_result"
    }
   ],
   "source": [
    "df_avisos.head()"
   ]
  },
  {
   "cell_type": "code",
   "execution_count": 17,
   "metadata": {},
   "outputs": [],
   "source": [
    "regex_limpiar_html_tags = re.compile('<.*?>')\n",
    "def limpiar_html(strhtml):\n",
    "    return re.sub(regex_limpiar_html_tags, '', strhtml)\n",
    "\n",
    "def regularizar_texto(linea):\n",
    "    return limpiar_html(linea)\\\n",
    "                        .lower()\\\n",
    "                        .replace('á', 'a')\\\n",
    "                        .replace('é', 'e')\\\n",
    "                        .replace('í', 'i')\\\n",
    "                        .replace('ó', 'o')\\\n",
    "                        .replace('ú', 'u')\\\n",
    "                        .replace('\\t', '')\\\n",
    "                        .replace('\\n', '')\\\n",
    "                        .replace('\\r', '')\n",
    "                        \n",
    "vregularizar_texto = np.vectorize(regularizar_texto)\n",
    "\n",
    "columnas_terminos = {\n",
    "    'ingenieria': ['ingeniero', 'ingeniera', 'ingenieria'],\n",
    "    'software': ['javascript', 'java', 'html', 'css', 'c#', '.net', 'android', 'ios', 'php', 'c++'],\n",
    "    'lunes_a_viernes': ['lunes a viernes', 'lun a vier', 'lun a vie'],\n",
    "    'requiere_titulo': ['titulo secundario', 'titulo terciario', 'titulo universitario', 'secundario completo', 'estudios completo', 'universitarios completo'],\n",
    "    'marketing': ['marketing', 'telemarketer', 'telemarketing', 'marketer', 'media manager', 'callcenter', 'call center'],\n",
    "    'capacitacion': ['capacitacion'],\n",
    "    'idioma_ingles': ['idioma ingles', 'manejo de ingles', 'clases de ingles', 'ingles excluyente', 'ingles requerido'],\n",
    "    'multinacional': ['multinacional'],\n",
    "    'internacional': ['internacional'],\n",
    "    'atencion_al_cliente': ['atencion al cliente', 'call center', 'callcenter', 'soporte tecnico', 'area de soporte', 'tareas de soporte'],\n",
    "    'turismo': ['turismo'],\n",
    "    'zona_puerto_madero': ['puerto madero'],\n",
    "    'zona_centro': ['microcentro', 'tribunales'],\n",
    "    'experiencia_previa': ['experiencia previa', 'experiencias anteriores', 'años de experiencia'],\n",
    "    'obra_social': ['obra social', 'osde', 'swiss medical', 'galeno', 'wh hope', 'grupo familiar', 'cobertura medica', 'pre paga', 'prepaga'],\n",
    "    'puesto_gerencia': ['gerente', 'gerenta', 'gerencia'],\n",
    "    'requisitos_excluyentes': ['excluyente'],\n",
    "    'retail': ['hipermercado', 'supermercado', 'cadena', 'franquicia', 'fravega', 'retail'],\n",
    "    ''\n",
    "}\n",
    "\n",
    "def tiene_termino(texto1, texto2, terminos):\n",
    "    for t in terminos:\n",
    "        if t in texto1 or t in texto2:\n",
    "            return 1\n",
    "    return 0\n",
    "def vtiene_termino(serie1, serie2, terminos):\n",
    "    if len(serie1) != len(serie2):\n",
    "        raise ValueError('series de distinto largo')\n",
    "    s = []\n",
    "    for i in range(0, len(serie1)):\n",
    "        s.append(tiene_termino(serie1.iloc[i], serie2.iloc[i], terminos))\n",
    "    return pd.Series(s)"
   ]
  },
  {
   "cell_type": "code",
   "execution_count": 18,
   "metadata": {},
   "outputs": [],
   "source": [
    "df_avisos['titulo'] = vregularizar_texto(df_avisos['titulo'])\n",
    "df_avisos['descripcion'] = vregularizar_texto(df_avisos['descripcion'])"
   ]
  },
  {
   "cell_type": "code",
   "execution_count": 19,
   "metadata": {},
   "outputs": [],
   "source": [
    "# optimizable, podríamos aplicar para cada fila todas las columnas del diccionario\n",
    "# como está ahora hace k*n con k=|columnas_terminos| y n=|df_avisos|\n",
    "for col, terminos in columnas_terminos.items():\n",
    "    df_avisos[col] = vtiene_termino(df_avisos['titulo'], df_avisos['descripcion'], terminos)"
   ]
  },
  {
   "cell_type": "code",
   "execution_count": null,
   "metadata": {},
   "outputs": [],
   "source": [
    "for col in columnas_terminos:\n",
    "    print(\"col = %s\" % col)\n",
    "    print(df_avisos[col].value_counts())"
   ]
  },
  {
   "cell_type": "code",
   "execution_count": 21,
   "metadata": {},
   "outputs": [],
   "source": [
    "df_avisos.drop(['titulo', 'descripcion'], axis=1, inplace=True)"
   ]
  },
  {
   "cell_type": "code",
   "execution_count": 22,
   "metadata": {},
   "outputs": [
    {
     "data": {
      "text/plain": [
       "58"
      ]
     },
     "execution_count": 22,
     "metadata": {},
     "output_type": "execute_result"
    }
   ],
   "source": [
    "gc.collect()"
   ]
  },
  {
   "cell_type": "code",
   "execution_count": 23,
   "metadata": {},
   "outputs": [
    {
     "name": "stdout",
     "output_type": "stream",
     "text": [
      "(681505, 28)\n",
      "  idpostulante  sexo  edad  nombre_edu  estado_edu     idaviso  idpais  \\\n",
      "0         5awk     0  56.0           6           2  1112277633       1   \n",
      "1        eA4mB     1  43.0           6           1  1112277633       1   \n",
      "2       aRkRXJ     1  37.0           6           2  1112277633       1   \n",
      "3       EppJmb     1  58.0           6           1  1112277633       1   \n",
      "4       8Z65dW     1  58.0           6           2  1112277633       1   \n",
      "\n",
      "   nombre_zona  ciudad  tipo_de_trabajo           ...            \\\n",
      "0            7      30                1           ...             \n",
      "1            7      30                1           ...             \n",
      "2            7      30                1           ...             \n",
      "3            7      30                1           ...             \n",
      "4            7      30                1           ...             \n",
      "\n",
      "   idioma_ingles  multinacional  internacional  atencion_al_cliente  turismo  \\\n",
      "0              0              0              0                    0        0   \n",
      "1              0              0              0                    0        0   \n",
      "2              0              0              0                    0        0   \n",
      "3              0              0              0                    0        0   \n",
      "4              0              0              0                    0        0   \n",
      "\n",
      "   zona_puerto_madero  zona_centro  experiencia_previa  obra_social  \\\n",
      "0                   0            0                   0            0   \n",
      "1                   0            0                   0            0   \n",
      "2                   0            0                   0            0   \n",
      "3                   0            0                   0            0   \n",
      "4                   0            0                   0            0   \n",
      "\n",
      "   requisitos_excluyentes  \n",
      "0                       0  \n",
      "1                       0  \n",
      "2                       0  \n",
      "3                       0  \n",
      "4                       0  \n",
      "\n",
      "[5 rows x 28 columns]\n"
     ]
    }
   ],
   "source": [
    "df_postulaciones_merge = df_postulaciones.sample(SAMPLE_SIZE)\n",
    "\n",
    "# merge de todos los datos\n",
    "df_general = df_posts_edu.merge(df_postulaciones_merge, on='idpostulante').merge(df_avisos, on='idaviso')\n",
    "\n",
    "#del df_postulantes\n",
    "#del df_postulaciones\n",
    "#del df_avisos\n",
    "\n",
    "del df_postulaciones_merge\n",
    "#df_general = df_general.sample(SAMPLE_SIZE)\n",
    "\n",
    "print(df_general.shape)\n",
    "print(df_general.head())"
   ]
  },
  {
   "cell_type": "markdown",
   "metadata": {},
   "source": [
    "## Preparación de datos para entrenamiento y predicción"
   ]
  },
  {
   "cell_type": "markdown",
   "metadata": {},
   "source": [
    "#### Generación de postulaciones"
   ]
  },
  {
   "cell_type": "code",
   "execution_count": 24,
   "metadata": {},
   "outputs": [],
   "source": [
    "df_general['sepostulo'] = 1"
   ]
  },
  {
   "cell_type": "markdown",
   "metadata": {},
   "source": [
    "#### Generación de \"no\" postulaciones"
   ]
  },
  {
   "cell_type": "code",
   "execution_count": 25,
   "metadata": {},
   "outputs": [],
   "source": [
    "sample = SAMPLE_SIZE"
   ]
  },
  {
   "cell_type": "code",
   "execution_count": 26,
   "metadata": {},
   "outputs": [
    {
     "name": "stdout",
     "output_type": "stream",
     "text": [
      "(750000, 5)\n",
      "(750000, 23)\n"
     ]
    }
   ],
   "source": [
    "df_postulantes_sample = df_posts_edu.sample(sample, replace=True).reset_index().drop(\"index\",1)\n",
    "df_avisos_sample = df_avisos.sample(sample, replace=True).reset_index().drop(\"index\",1)\n",
    "\n",
    "print(df_postulantes_sample.shape)\n",
    "print(df_avisos_sample.shape)"
   ]
  },
  {
   "cell_type": "code",
   "execution_count": 27,
   "metadata": {},
   "outputs": [
    {
     "name": "stdout",
     "output_type": "stream",
     "text": [
      "(749974, 28)\n"
     ]
    }
   ],
   "source": [
    "df_no_postulaciones = df_postulantes_sample.join(df_avisos_sample)\n",
    "df_no_postulaciones = df_no_postulaciones.merge(df_postulaciones, on=[\"idaviso\",\"idpostulante\"], how=\"left\")\n",
    "df_no_postulaciones.drop_duplicates(['idaviso', 'idpostulante'], keep='first', inplace=True)\n",
    "print(df_no_postulaciones.shape)"
   ]
  },
  {
   "cell_type": "code",
   "execution_count": 28,
   "metadata": {},
   "outputs": [],
   "source": [
    "# vamos a asumir que no hay postulaciones duplicadas dado que pertenecen a distintos periodos"
   ]
  },
  {
   "cell_type": "code",
   "execution_count": 29,
   "metadata": {},
   "outputs": [
    {
     "data": {
      "text/html": [
       "<div>\n",
       "<style scoped>\n",
       "    .dataframe tbody tr th:only-of-type {\n",
       "        vertical-align: middle;\n",
       "    }\n",
       "\n",
       "    .dataframe tbody tr th {\n",
       "        vertical-align: top;\n",
       "    }\n",
       "\n",
       "    .dataframe thead th {\n",
       "        text-align: right;\n",
       "    }\n",
       "</style>\n",
       "<table border=\"1\" class=\"dataframe\">\n",
       "  <thead>\n",
       "    <tr style=\"text-align: right;\">\n",
       "      <th></th>\n",
       "      <th>idpostulante</th>\n",
       "      <th>sexo</th>\n",
       "      <th>edad</th>\n",
       "      <th>nombre_edu</th>\n",
       "      <th>estado_edu</th>\n",
       "      <th>idaviso</th>\n",
       "      <th>idpais</th>\n",
       "      <th>nombre_zona</th>\n",
       "      <th>ciudad</th>\n",
       "      <th>tipo_de_trabajo</th>\n",
       "      <th>...</th>\n",
       "      <th>multinacional</th>\n",
       "      <th>internacional</th>\n",
       "      <th>atencion_al_cliente</th>\n",
       "      <th>turismo</th>\n",
       "      <th>zona_puerto_madero</th>\n",
       "      <th>zona_centro</th>\n",
       "      <th>experiencia_previa</th>\n",
       "      <th>obra_social</th>\n",
       "      <th>requisitos_excluyentes</th>\n",
       "      <th>sepostulo</th>\n",
       "    </tr>\n",
       "  </thead>\n",
       "  <tbody>\n",
       "    <tr>\n",
       "      <th>0</th>\n",
       "      <td>GNZWQAp</td>\n",
       "      <td>0</td>\n",
       "      <td>22.0</td>\n",
       "      <td>6</td>\n",
       "      <td>1</td>\n",
       "      <td>1112274268</td>\n",
       "      <td>1</td>\n",
       "      <td>7</td>\n",
       "      <td>30</td>\n",
       "      <td>1</td>\n",
       "      <td>...</td>\n",
       "      <td>0</td>\n",
       "      <td>0</td>\n",
       "      <td>0</td>\n",
       "      <td>1</td>\n",
       "      <td>0</td>\n",
       "      <td>0</td>\n",
       "      <td>1</td>\n",
       "      <td>1</td>\n",
       "      <td>1</td>\n",
       "      <td>0</td>\n",
       "    </tr>\n",
       "    <tr>\n",
       "      <th>1</th>\n",
       "      <td>vVjdZJG</td>\n",
       "      <td>1</td>\n",
       "      <td>18.0</td>\n",
       "      <td>4</td>\n",
       "      <td>2</td>\n",
       "      <td>1112432336</td>\n",
       "      <td>1</td>\n",
       "      <td>7</td>\n",
       "      <td>30</td>\n",
       "      <td>1</td>\n",
       "      <td>...</td>\n",
       "      <td>0</td>\n",
       "      <td>1</td>\n",
       "      <td>0</td>\n",
       "      <td>0</td>\n",
       "      <td>0</td>\n",
       "      <td>0</td>\n",
       "      <td>0</td>\n",
       "      <td>0</td>\n",
       "      <td>0</td>\n",
       "      <td>0</td>\n",
       "    </tr>\n",
       "    <tr>\n",
       "      <th>2</th>\n",
       "      <td>kPjQYaa</td>\n",
       "      <td>0</td>\n",
       "      <td>24.0</td>\n",
       "      <td>6</td>\n",
       "      <td>1</td>\n",
       "      <td>1112471767</td>\n",
       "      <td>1</td>\n",
       "      <td>7</td>\n",
       "      <td>30</td>\n",
       "      <td>1</td>\n",
       "      <td>...</td>\n",
       "      <td>0</td>\n",
       "      <td>0</td>\n",
       "      <td>0</td>\n",
       "      <td>0</td>\n",
       "      <td>0</td>\n",
       "      <td>0</td>\n",
       "      <td>0</td>\n",
       "      <td>0</td>\n",
       "      <td>1</td>\n",
       "      <td>0</td>\n",
       "    </tr>\n",
       "    <tr>\n",
       "      <th>3</th>\n",
       "      <td>jkjbEjr</td>\n",
       "      <td>1</td>\n",
       "      <td>39.0</td>\n",
       "      <td>4</td>\n",
       "      <td>1</td>\n",
       "      <td>1112373831</td>\n",
       "      <td>1</td>\n",
       "      <td>7</td>\n",
       "      <td>30</td>\n",
       "      <td>1</td>\n",
       "      <td>...</td>\n",
       "      <td>0</td>\n",
       "      <td>0</td>\n",
       "      <td>1</td>\n",
       "      <td>0</td>\n",
       "      <td>0</td>\n",
       "      <td>0</td>\n",
       "      <td>0</td>\n",
       "      <td>0</td>\n",
       "      <td>0</td>\n",
       "      <td>0</td>\n",
       "    </tr>\n",
       "    <tr>\n",
       "      <th>4</th>\n",
       "      <td>jkd3KAr</td>\n",
       "      <td>0</td>\n",
       "      <td>22.0</td>\n",
       "      <td>4</td>\n",
       "      <td>2</td>\n",
       "      <td>1112417801</td>\n",
       "      <td>1</td>\n",
       "      <td>7</td>\n",
       "      <td>30</td>\n",
       "      <td>1</td>\n",
       "      <td>...</td>\n",
       "      <td>0</td>\n",
       "      <td>0</td>\n",
       "      <td>0</td>\n",
       "      <td>0</td>\n",
       "      <td>0</td>\n",
       "      <td>0</td>\n",
       "      <td>0</td>\n",
       "      <td>0</td>\n",
       "      <td>1</td>\n",
       "      <td>0</td>\n",
       "    </tr>\n",
       "  </tbody>\n",
       "</table>\n",
       "<p>5 rows × 29 columns</p>\n",
       "</div>"
      ],
      "text/plain": [
       "  idpostulante  sexo  edad  nombre_edu  estado_edu     idaviso  idpais  \\\n",
       "0      GNZWQAp     0  22.0           6           1  1112274268       1   \n",
       "1      vVjdZJG     1  18.0           4           2  1112432336       1   \n",
       "2      kPjQYaa     0  24.0           6           1  1112471767       1   \n",
       "3      jkjbEjr     1  39.0           4           1  1112373831       1   \n",
       "4      jkd3KAr     0  22.0           4           2  1112417801       1   \n",
       "\n",
       "   nombre_zona  ciudad  tipo_de_trabajo    ...      multinacional  \\\n",
       "0            7      30                1    ...                  0   \n",
       "1            7      30                1    ...                  0   \n",
       "2            7      30                1    ...                  0   \n",
       "3            7      30                1    ...                  0   \n",
       "4            7      30                1    ...                  0   \n",
       "\n",
       "   internacional  atencion_al_cliente  turismo  zona_puerto_madero  \\\n",
       "0              0                    0        1                   0   \n",
       "1              1                    0        0                   0   \n",
       "2              0                    0        0                   0   \n",
       "3              0                    1        0                   0   \n",
       "4              0                    0        0                   0   \n",
       "\n",
       "   zona_centro  experiencia_previa  obra_social  requisitos_excluyentes  \\\n",
       "0            0                   1            1                       1   \n",
       "1            0                   0            0                       0   \n",
       "2            0                   0            0                       1   \n",
       "3            0                   0            0                       0   \n",
       "4            0                   0            0                       1   \n",
       "\n",
       "   sepostulo  \n",
       "0          0  \n",
       "1          0  \n",
       "2          0  \n",
       "3          0  \n",
       "4          0  \n",
       "\n",
       "[5 rows x 29 columns]"
      ]
     },
     "execution_count": 29,
     "metadata": {},
     "output_type": "execute_result"
    }
   ],
   "source": [
    "df_no_postulaciones['sepostulo'] = 0;\n",
    "df_no_postulaciones.head(5)"
   ]
  },
  {
   "cell_type": "code",
   "execution_count": 30,
   "metadata": {},
   "outputs": [
    {
     "name": "stdout",
     "output_type": "stream",
     "text": [
      "(681505, 29)\n",
      "(1431479, 29)\n"
     ]
    }
   ],
   "source": [
    "print(df_general.shape)\n",
    "df_general = df_general.append(df_no_postulaciones)\n",
    "print(df_general.shape)"
   ]
  },
  {
   "cell_type": "code",
   "execution_count": 31,
   "metadata": {},
   "outputs": [
    {
     "data": {
      "text/plain": [
       "210"
      ]
     },
     "execution_count": 31,
     "metadata": {},
     "output_type": "execute_result"
    }
   ],
   "source": [
    "del df_posts_edu\n",
    "del df_postulaciones\n",
    "del df_avisos\n",
    "\n",
    "gc.collect()"
   ]
  },
  {
   "cell_type": "code",
   "execution_count": 32,
   "metadata": {},
   "outputs": [
    {
     "data": {
      "text/plain": [
       "30"
      ]
     },
     "execution_count": 32,
     "metadata": {},
     "output_type": "execute_result"
    }
   ],
   "source": [
    "df_general = shuffle(df_general, random_state=13).reset_index()\n",
    "\n",
    "gc.collect()"
   ]
  },
  {
   "cell_type": "code",
   "execution_count": 33,
   "metadata": {},
   "outputs": [],
   "source": [
    "offset = int(df_general.shape[0] * 0.8)\n",
    "\n",
    "df_general_entrenamiento = df_general.loc[:offset]\n",
    "df_general_test = df_general.loc[offset:]"
   ]
  },
  {
   "cell_type": "code",
   "execution_count": 34,
   "metadata": {},
   "outputs": [
    {
     "data": {
      "text/plain": [
       "Index(['index', 'idpostulante', 'sexo', 'edad', 'nombre_edu', 'estado_edu',\n",
       "       'idaviso', 'idpais', 'nombre_zona', 'ciudad', 'tipo_de_trabajo',\n",
       "       'nivel_laboral', 'nombre_area', 'denominacion_empresa', 'ingenieria',\n",
       "       'software', 'lunes_a_viernes', 'requiere_titulo', 'capacitacion',\n",
       "       'idioma_ingles', 'multinacional', 'internacional',\n",
       "       'atencion_al_cliente', 'turismo', 'zona_puerto_madero', 'zona_centro',\n",
       "       'experiencia_previa', 'obra_social', 'requisitos_excluyentes',\n",
       "       'sepostulo'],\n",
       "      dtype='object')"
      ]
     },
     "execution_count": 34,
     "metadata": {},
     "output_type": "execute_result"
    }
   ],
   "source": [
    "df_general_entrenamiento.columns"
   ]
  },
  {
   "cell_type": "markdown",
   "metadata": {},
   "source": [
    "## Ejecución del algoritmo de ML"
   ]
  },
  {
   "cell_type": "code",
   "execution_count": 35,
   "metadata": {},
   "outputs": [],
   "source": [
    "columnas_datos = ['sexo', 'edad', 'nombre_edu', 'estado_edu', 'idpais', 'nombre_zona', 'ciudad', 'tipo_de_trabajo', 'nivel_laboral', 'nombre_area', 'denominacion_empresa'] + list(columnas_terminos.keys())\n",
    "columnas_target = ['sepostulo']"
   ]
  },
  {
   "cell_type": "code",
   "execution_count": 36,
   "metadata": {},
   "outputs": [
    {
     "name": "stdout",
     "output_type": "stream",
     "text": [
      "(1145184, 30)\n",
      "(286296, 30)\n"
     ]
    }
   ],
   "source": [
    "print(df_general_entrenamiento.shape)\n",
    "print(df_general_test.shape)"
   ]
  },
  {
   "cell_type": "markdown",
   "metadata": {},
   "source": [
    "### Decision Tree"
   ]
  },
  {
   "cell_type": "code",
   "execution_count": 37,
   "metadata": {},
   "outputs": [],
   "source": [
    "# http://scikit-learn.org/stable/modules/generated/sklearn.tree.DecisionTreeClassifier.html\n",
    "#params = { 'max_depth': 150, 'random_state': 29 }\n",
    "\n",
    "#treeclassifier = DecisionTreeClassifier(**params)\n",
    "#treeclassifier.fit(df_general_entrenamiento[columnas_datos], df_general_entrenamiento[columnas_target])\n",
    "\n",
    "#sepostulo_predicciones = treeclassifier.predict(df_general_test[columnas_datos])\n",
    "\n",
    "#prec = precision_score(df_general_test[columnas_target], sepostulo_predicciones)\n",
    "#print(\"Precision %.4f\" % (prec * 100))"
   ]
  },
  {
   "cell_type": "markdown",
   "metadata": {},
   "source": [
    "### Random Forest"
   ]
  },
  {
   "cell_type": "code",
   "execution_count": 38,
   "metadata": {},
   "outputs": [
    {
     "name": "stdout",
     "output_type": "stream",
     "text": [
      "Precision 79.5945\n"
     ]
    }
   ],
   "source": [
    "# http://scikit-learn.org/stable/modules/generated/sklearn.ensemble.RandomForestClassifier.html\n",
    "params = { 'n_estimators': 50, 'random_state': 23, 'min_samples_leaf': 3 }\n",
    "\n",
    "rndforestclassifier = RandomForestClassifier(**params)\n",
    "rndforestclassifier.fit(df_general_entrenamiento[columnas_datos], df_general_entrenamiento[columnas_target].values.ravel())\n",
    "\n",
    "sepostulo_predicciones = rndforestclassifier.predict(df_general_test[columnas_datos])\n",
    "\n",
    "prec = precision_score(df_general_test[columnas_target], sepostulo_predicciones)\n",
    "print(\"Precision %.4f\" % (prec * 100))"
   ]
  },
  {
   "cell_type": "markdown",
   "metadata": {},
   "source": [
    "### XGBoost"
   ]
  },
  {
   "cell_type": "code",
   "execution_count": 39,
   "metadata": {},
   "outputs": [
    {
     "ename": "KeyboardInterrupt",
     "evalue": "",
     "output_type": "error",
     "traceback": [
      "\u001b[0;31m---------------------------------------------------------------------------\u001b[0m",
      "\u001b[0;31mKeyboardInterrupt\u001b[0m                         Traceback (most recent call last)",
      "\u001b[0;32m<ipython-input-39-2d8207abf914>\u001b[0m in \u001b[0;36m<module>\u001b[0;34m()\u001b[0m\n\u001b[1;32m      3\u001b[0m \u001b[0;34m\u001b[0m\u001b[0m\n\u001b[1;32m      4\u001b[0m \u001b[0mxgbclassifier\u001b[0m \u001b[0;34m=\u001b[0m \u001b[0mGradientBoostingClassifier\u001b[0m\u001b[0;34m(\u001b[0m\u001b[0;34m**\u001b[0m\u001b[0mparams\u001b[0m\u001b[0;34m)\u001b[0m\u001b[0;34m\u001b[0m\u001b[0m\n\u001b[0;32m----> 5\u001b[0;31m \u001b[0mxgbclassifier\u001b[0m\u001b[0;34m.\u001b[0m\u001b[0mfit\u001b[0m\u001b[0;34m(\u001b[0m\u001b[0mdf_general_entrenamiento\u001b[0m\u001b[0;34m[\u001b[0m\u001b[0mcolumnas_datos\u001b[0m\u001b[0;34m]\u001b[0m\u001b[0;34m,\u001b[0m \u001b[0mdf_general_entrenamiento\u001b[0m\u001b[0;34m[\u001b[0m\u001b[0mcolumnas_target\u001b[0m\u001b[0;34m]\u001b[0m\u001b[0;34m.\u001b[0m\u001b[0mvalues\u001b[0m\u001b[0;34m.\u001b[0m\u001b[0mravel\u001b[0m\u001b[0;34m(\u001b[0m\u001b[0;34m)\u001b[0m\u001b[0;34m)\u001b[0m\u001b[0;34m\u001b[0m\u001b[0m\n\u001b[0m\u001b[1;32m      6\u001b[0m \u001b[0;34m\u001b[0m\u001b[0m\n\u001b[1;32m      7\u001b[0m \u001b[0msepostulo_predicciones\u001b[0m \u001b[0;34m=\u001b[0m \u001b[0mxgbclassifier\u001b[0m\u001b[0;34m.\u001b[0m\u001b[0mpredict\u001b[0m\u001b[0;34m(\u001b[0m\u001b[0mdf_general_test\u001b[0m\u001b[0;34m[\u001b[0m\u001b[0mcolumnas_datos\u001b[0m\u001b[0;34m]\u001b[0m\u001b[0;34m)\u001b[0m\u001b[0;34m\u001b[0m\u001b[0m\n",
      "\u001b[0;32m~/anaconda3/lib/python3.6/site-packages/sklearn/ensemble/gradient_boosting.py\u001b[0m in \u001b[0;36mfit\u001b[0;34m(self, X, y, sample_weight, monitor)\u001b[0m\n\u001b[1;32m   1032\u001b[0m         \u001b[0;31m# fit the boosting stages\u001b[0m\u001b[0;34m\u001b[0m\u001b[0;34m\u001b[0m\u001b[0m\n\u001b[1;32m   1033\u001b[0m         n_stages = self._fit_stages(X, y, y_pred, sample_weight, random_state,\n\u001b[0;32m-> 1034\u001b[0;31m                                     begin_at_stage, monitor, X_idx_sorted)\n\u001b[0m\u001b[1;32m   1035\u001b[0m         \u001b[0;31m# change shape of arrays after fit (early-stopping or additional ests)\u001b[0m\u001b[0;34m\u001b[0m\u001b[0;34m\u001b[0m\u001b[0m\n\u001b[1;32m   1036\u001b[0m         \u001b[0;32mif\u001b[0m \u001b[0mn_stages\u001b[0m \u001b[0;34m!=\u001b[0m \u001b[0mself\u001b[0m\u001b[0;34m.\u001b[0m\u001b[0mestimators_\u001b[0m\u001b[0;34m.\u001b[0m\u001b[0mshape\u001b[0m\u001b[0;34m[\u001b[0m\u001b[0;36m0\u001b[0m\u001b[0;34m]\u001b[0m\u001b[0;34m:\u001b[0m\u001b[0;34m\u001b[0m\u001b[0m\n",
      "\u001b[0;32m~/anaconda3/lib/python3.6/site-packages/sklearn/ensemble/gradient_boosting.py\u001b[0m in \u001b[0;36m_fit_stages\u001b[0;34m(self, X, y, y_pred, sample_weight, random_state, begin_at_stage, monitor, X_idx_sorted)\u001b[0m\n\u001b[1;32m   1087\u001b[0m             y_pred = self._fit_stage(i, X, y, y_pred, sample_weight,\n\u001b[1;32m   1088\u001b[0m                                      \u001b[0msample_mask\u001b[0m\u001b[0;34m,\u001b[0m \u001b[0mrandom_state\u001b[0m\u001b[0;34m,\u001b[0m \u001b[0mX_idx_sorted\u001b[0m\u001b[0;34m,\u001b[0m\u001b[0;34m\u001b[0m\u001b[0m\n\u001b[0;32m-> 1089\u001b[0;31m                                      X_csc, X_csr)\n\u001b[0m\u001b[1;32m   1090\u001b[0m \u001b[0;34m\u001b[0m\u001b[0m\n\u001b[1;32m   1091\u001b[0m             \u001b[0;31m# track deviance (= loss)\u001b[0m\u001b[0;34m\u001b[0m\u001b[0;34m\u001b[0m\u001b[0m\n",
      "\u001b[0;32m~/anaconda3/lib/python3.6/site-packages/sklearn/ensemble/gradient_boosting.py\u001b[0m in \u001b[0;36m_fit_stage\u001b[0;34m(self, i, X, y, y_pred, sample_weight, sample_mask, random_state, X_idx_sorted, X_csc, X_csr)\u001b[0m\n\u001b[1;32m    786\u001b[0m             \u001b[0;32melse\u001b[0m\u001b[0;34m:\u001b[0m\u001b[0;34m\u001b[0m\u001b[0m\n\u001b[1;32m    787\u001b[0m                 tree.fit(X, residual, sample_weight=sample_weight,\n\u001b[0;32m--> 788\u001b[0;31m                          check_input=False, X_idx_sorted=X_idx_sorted)\n\u001b[0m\u001b[1;32m    789\u001b[0m \u001b[0;34m\u001b[0m\u001b[0m\n\u001b[1;32m    790\u001b[0m             \u001b[0;31m# update tree leaves\u001b[0m\u001b[0;34m\u001b[0m\u001b[0;34m\u001b[0m\u001b[0m\n",
      "\u001b[0;32m~/anaconda3/lib/python3.6/site-packages/sklearn/tree/tree.py\u001b[0m in \u001b[0;36mfit\u001b[0;34m(self, X, y, sample_weight, check_input, X_idx_sorted)\u001b[0m\n\u001b[1;32m   1122\u001b[0m             \u001b[0msample_weight\u001b[0m\u001b[0;34m=\u001b[0m\u001b[0msample_weight\u001b[0m\u001b[0;34m,\u001b[0m\u001b[0;34m\u001b[0m\u001b[0m\n\u001b[1;32m   1123\u001b[0m             \u001b[0mcheck_input\u001b[0m\u001b[0;34m=\u001b[0m\u001b[0mcheck_input\u001b[0m\u001b[0;34m,\u001b[0m\u001b[0;34m\u001b[0m\u001b[0m\n\u001b[0;32m-> 1124\u001b[0;31m             X_idx_sorted=X_idx_sorted)\n\u001b[0m\u001b[1;32m   1125\u001b[0m         \u001b[0;32mreturn\u001b[0m \u001b[0mself\u001b[0m\u001b[0;34m\u001b[0m\u001b[0m\n\u001b[1;32m   1126\u001b[0m \u001b[0;34m\u001b[0m\u001b[0m\n",
      "\u001b[0;32m~/anaconda3/lib/python3.6/site-packages/sklearn/tree/tree.py\u001b[0m in \u001b[0;36mfit\u001b[0;34m(self, X, y, sample_weight, check_input, X_idx_sorted)\u001b[0m\n\u001b[1;32m    360\u001b[0m                                            min_impurity_split)\n\u001b[1;32m    361\u001b[0m \u001b[0;34m\u001b[0m\u001b[0m\n\u001b[0;32m--> 362\u001b[0;31m         \u001b[0mbuilder\u001b[0m\u001b[0;34m.\u001b[0m\u001b[0mbuild\u001b[0m\u001b[0;34m(\u001b[0m\u001b[0mself\u001b[0m\u001b[0;34m.\u001b[0m\u001b[0mtree_\u001b[0m\u001b[0;34m,\u001b[0m \u001b[0mX\u001b[0m\u001b[0;34m,\u001b[0m \u001b[0my\u001b[0m\u001b[0;34m,\u001b[0m \u001b[0msample_weight\u001b[0m\u001b[0;34m,\u001b[0m \u001b[0mX_idx_sorted\u001b[0m\u001b[0;34m)\u001b[0m\u001b[0;34m\u001b[0m\u001b[0m\n\u001b[0m\u001b[1;32m    363\u001b[0m \u001b[0;34m\u001b[0m\u001b[0m\n\u001b[1;32m    364\u001b[0m         \u001b[0;32mif\u001b[0m \u001b[0mself\u001b[0m\u001b[0;34m.\u001b[0m\u001b[0mn_outputs_\u001b[0m \u001b[0;34m==\u001b[0m \u001b[0;36m1\u001b[0m\u001b[0;34m:\u001b[0m\u001b[0;34m\u001b[0m\u001b[0m\n",
      "\u001b[0;31mKeyboardInterrupt\u001b[0m: "
     ]
    }
   ],
   "source": [
    "# http://scikit-learn.org/stable/modules/generated/sklearn.ensemble.GradientBoostingClassifier.html\n",
    "params = {'n_estimators': 100, 'learning_rate': 0.01, }#, 'max_depth': a, 'min_samples_split': 2, }\n",
    "\n",
    "xgbclassifier = GradientBoostingClassifier(**params)\n",
    "xgbclassifier.fit(df_general_entrenamiento[columnas_datos], df_general_entrenamiento[columnas_target].values.ravel())\n",
    "\n",
    "sepostulo_predicciones = xgbclassifier.predict(df_general_test[columnas_datos])\n",
    "\n",
    "prec = precision_score(df_general_test[columnas_target], sepostulo_predicciones)\n",
    "print(\"Precision %.4f\" % (prec * 100))"
   ]
  },
  {
   "cell_type": "markdown",
   "metadata": {},
   "source": [
    "### AdaBoost"
   ]
  },
  {
   "cell_type": "code",
   "execution_count": null,
   "metadata": {},
   "outputs": [],
   "source": [
    "# http://scikit-learn.org/stable/modules/generated/sklearn.ensemble.AdaBoostClassifier.html\n",
    "params = {'n_estimators': 100, 'learning_rate': 0.01, 'random_state': 29}\n",
    "\n",
    "adaboosclassifier = AdaBoostClassifier(**params)\n",
    "adaboosclassifier.fit(df_general_entrenamiento[columnas_datos], df_general_entrenamiento[columnas_target].values.ravel())\n",
    "\n",
    "sepostulo_predicciones = adaboosclassifier.predict(df_general_test[columnas_datos])\n",
    "\n",
    "prec = precision_score(df_general_test[columnas_target], sepostulo_predicciones)\n",
    "print(\"Precision %.4f\" % (prec * 100))"
   ]
  },
  {
   "cell_type": "markdown",
   "metadata": {},
   "source": [
    "### SVM (RBF)"
   ]
  },
  {
   "cell_type": "code",
   "execution_count": null,
   "metadata": {},
   "outputs": [],
   "source": [
    "# http://scikit-learn.org/stable/modules/generated/sklearn.neural_network.MLPClassifier.html\n",
    "#params = {'C': 1.0, 'gamma': 'auto'}\n",
    "\n",
    "#svcclassifier = SVC(**params)\n",
    "#svcclassifier.fit(df_general_entrenamiento[columnas_datos], df_general_entrenamiento[columnas_target])\n",
    "\n",
    "#sepostulo_predicciones = svcclassifier.predict(df_general_test[columnas_datos])\n",
    "\n",
    "#prec = precision_score(df_general_test[columnas_target], sepostulo_predicciones)\n",
    "#print(\"Precision %.4f\" % (prec * 100))"
   ]
  },
  {
   "cell_type": "markdown",
   "metadata": {},
   "source": [
    "### Red Neuronal (Multi-Layer Perceptron)"
   ]
  },
  {
   "cell_type": "code",
   "execution_count": null,
   "metadata": {},
   "outputs": [],
   "source": [
    "# http://scikit-learn.org/stable/modules/generated/sklearn.neural_network.MLPClassifier.html\n",
    "#params = {'solver': 'adam', 'hidden_layer_sizes': (100, 50) }#, 'alpha': 1e-5,}\n",
    "\n",
    "#mlpclassifier = MLPClassifier(**params)\n",
    "#mlpclassifier.fit(df_general_entrenamiento[columnas_datos], df_general_entrenamiento[columnas_target])\n",
    "\n",
    "#sepostulo_predicciones = mlpclassifier.predict(df_general_test[columnas_datos])\n",
    "\n",
    "#prec = precision_score(df_general_test[columnas_target], sepostulo_predicciones)\n",
    "#print(\"Precision %.4f\" % (prec * 100))"
   ]
  },
  {
   "cell_type": "code",
   "execution_count": null,
   "metadata": {},
   "outputs": [],
   "source": [
    "gc.collect()"
   ]
  },
  {
   "cell_type": "code",
   "execution_count": null,
   "metadata": {},
   "outputs": [],
   "source": []
  }
 ],
 "metadata": {
  "kernelspec": {
   "display_name": "Python 3",
   "language": "python",
   "name": "python3"
  },
  "language_info": {
   "codemirror_mode": {
    "name": "ipython",
    "version": 3
   },
   "file_extension": ".py",
   "mimetype": "text/x-python",
   "name": "python",
   "nbconvert_exporter": "python",
   "pygments_lexer": "ipython3",
   "version": "3.6.4"
  }
 },
 "nbformat": 4,
 "nbformat_minor": 2
}
